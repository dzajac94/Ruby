{
 "metadata": {
  "language": "ruby",
  "name": "",
  "signature": "sha256:a2c57a414a4dbcebb08681ee2da440bffdcc39a6a31cee6800b7ba67338670b3"
 },
 "nbformat": 3,
 "nbformat_minor": 0,
 "worksheets": [
  {
   "cells": [
    {
     "cell_type": "heading",
     "level": 1,
     "metadata": {},
     "source": [
      "Zapytania z\u0142o\u017cone"
     ]
    },
    {
     "cell_type": "markdown",
     "metadata": {},
     "source": [
      "Przed rozpocz\u0119ciem pracy konieczne jest skonfigurowanie bazy oraz za\u0142adowanie danych:\n",
      "```ruby\n",
      "$:.unshift \".\"\n",
      "require 'db_setup'\n",
      "require 'db_load'\n",
      "```"
     ]
    },
    {
     "cell_type": "code",
     "collapsed": false,
     "input": [
      "$:.unshift \".\"\n",
      "require 'db_setup'\n",
      "require 'db_load'"
     ],
     "language": "python",
     "metadata": {},
     "outputs": [
      {
       "output_type": "stream",
       "stream": "stdout",
       "text": [
        "==  AddIndicesMigration: migrating ============================================\n"
       ]
      },
      {
       "output_type": "stream",
       "stream": "stdout",
       "text": [
        "==  AddIndicesMigration: migrated (0.0000s) ===================================\n"
       ]
      },
      {
       "output_type": "stream",
       "stream": "stdout",
       "text": [
        "\n"
       ]
      },
      {
       "metadata": {},
       "output_type": "pyout",
       "prompt_number": 10,
       "text": [
        "true"
       ]
      }
     ],
     "prompt_number": 10
    },
    {
     "cell_type": "markdown",
     "metadata": {},
     "source": [
      "W dalszych zadaniach b\u0119dzie wykonywa\u0107 polecenia korzystaj\u0105c z nast\u0119puj\u0105cych klas, zmapowanych na odpowiadaj\u0105ce im \n",
      "table w bazie danych:\n",
      "```ruby\n",
      "class Author < ActiveRecord::Base\n",
      "  # name      (string)\n",
      "  # surname   (string)\n",
      "  # born      (datetime) \n",
      "  # died      (datetime)\n",
      "  # image_url (string)\n",
      "  \n",
      "  has_many :books\n",
      "end\n",
      "\n",
      "class Book < ActiveRecord::Base\n",
      "  # title     (string)\n",
      "  # author    (Author)\n",
      "  # published (integer)\n",
      "\n",
      "  belongs_to :author\n",
      "end\n",
      "```"
     ]
    },
    {
     "cell_type": "markdown",
     "metadata": {},
     "source": [
      "ActiveRecord udost\u0119pnia interfejs pozwalaj\u0105cy wyszukiwa\u0107 dane w bazie r\u00f3wnie\u017c z wykorzystaniem zwi\u0105zk\u00f3w zdefiniowanych pomi\u0119dzy\n",
      "klasami. Do definiowania tych zwi\u0105zk\u00f3w s\u0142u\u017c\u0105 polecenia `has_many`, `belongs_to`, `has_one` oraz `has_and_belongs_to_many`.\n",
      "Przyk\u0142adowo je\u015bli chcemy dowiedzie\u0107 si\u0119 kto by\u0142 autorem pierwszej ksi\u0105\u017cki wykonujemy zapytanie:\n",
      "```ruby\n",
      "book = Book.first\n",
      "puts book.title\n",
      "puts book.author\n",
      "```"
     ]
    },
    {
     "cell_type": "code",
     "collapsed": false,
     "input": [
      "book = Book.first\n",
      "puts book.title\n",
      "puts book.author"
     ],
     "language": "python",
     "metadata": {},
     "outputs": [
      {
       "output_type": "stream",
       "stream": "stdout",
       "text": [
        "V\u00e9gj\u00e1t\u00e9k (reg\u00e9ny)\n"
       ]
      },
      {
       "output_type": "stream",
       "stream": "stdout",
       "text": [
        "#<Author:0x000000031816d8>\n"
       ]
      }
     ],
     "prompt_number": 3
    },
    {
     "cell_type": "markdown",
     "metadata": {},
     "source": [
      "Niestety prezentowany wynik nie jest zbyt u\u017cyteczny. Poniewa\u017c jednak metoda `author` zwraca obiekt, mo\u017cemy na nim wywo\u0142ywa\u0107 \n",
      "metody - tak samo jak w przypadku autora za\u0142adowanego bezpo\u015brednio z wykorzystaniem metod zdefiniowanych dla klasy `Author`\n",
      "```ruby\n",
      "book = Book.first\n",
      "puts book.title\n",
      "puts \"#{book.author.name} #{book.author.surname}\"\n",
      "```"
     ]
    },
    {
     "cell_type": "code",
     "collapsed": false,
     "input": [
      "book = Book.first\n",
      "puts book.title\n",
      "puts \"#{book.author.name} #{book.author.surname}\""
     ],
     "language": "python",
     "metadata": {},
     "outputs": [
      {
       "output_type": "stream",
       "stream": "stdout",
       "text": [
        "V\u00e9gj\u00e1t\u00e9k (reg\u00e9ny)\n"
       ]
      },
      {
       "output_type": "stream",
       "stream": "stdout",
       "text": [
        "Orson Scott Card\n"
       ]
      }
     ],
     "prompt_number": 5
    },
    {
     "cell_type": "markdown",
     "metadata": {},
     "source": [
      "Co wi\u0119cej, je\u015bli mamy do czynienia ze zwi\u0105zkiem jeden-do-wiele b\u0105d\u017a wiele-do-wiele, mo\u017cemy wywy\u0142ywa\u0107 wszystkie dotychczas poznane \n",
      "metody na kolekcji powi\u0105zanych obiekt\u00f3w. Istotnie u\u0142atwia to wyszukiwanie potrzebnych danych:\n",
      "```ruby\n",
      "books = Book.where(\"title like 'A%'\")\n",
      "books.each do |book|\n",
      "  puts book.title\n",
      "end\n",
      "\n",
      "author = Author.where(surname: \"To\u0142stoj\").first\n",
      "books = author.books.where(\"title like 'A%'\")\n",
      "books.each do |book|\n",
      "  puts book.title\n",
      "end\n",
      "```"
     ]
    },
    {
     "cell_type": "code",
     "collapsed": false,
     "input": [
      "books = Book.where(\"title like 'A%'\")\n",
      "books.each do |book|\n",
      "  puts book.title\n",
      "end\n"
     ],
     "language": "python",
     "metadata": {},
     "outputs": [
      {
       "output_type": "stream",
       "stream": "stdout",
       "text": [
        "Anna Karenina\n"
       ]
      },
      {
       "output_type": "stream",
       "stream": "stdout",
       "text": [
        "Azazel (powie\u015b\u0107)\n"
       ]
      },
      {
       "metadata": {},
       "output_type": "pyout",
       "prompt_number": 6,
       "text": [
        "[#<Book id: 33, title: \"Anna Karenina\", language: nil, author_id: 50, published: 1877, image_url: \"http://commons.wikimedia.org/wiki/Special:FilePath...\">, #<Book id: 34, title: \"Azazel (powie\u015b\u0107)\", language: nil, author_id: 51, published: 1998, image_url: nil>]"
       ]
      }
     ],
     "prompt_number": 6
    },
    {
     "cell_type": "code",
     "collapsed": false,
     "input": [
      "\n",
      "author = Author.where(surname: \"To\u0142stoj\").first\n",
      "books = author.books.where(\"title like 'A%'\")\n",
      "books.each do |book|\n",
      "  puts book.title\n",
      "end"
     ],
     "language": "python",
     "metadata": {},
     "outputs": [
      {
       "output_type": "stream",
       "stream": "stdout",
       "text": [
        "Anna Karenina\n"
       ]
      },
      {
       "metadata": {},
       "output_type": "pyout",
       "prompt_number": 7,
       "text": [
        "[#<Book id: 33, title: \"Anna Karenina\", language: nil, author_id: 50, published: 1877, image_url: \"http://commons.wikimedia.org/wiki/Special:FilePath...\">]"
       ]
      }
     ],
     "prompt_number": 7
    },
    {
     "cell_type": "markdown",
     "metadata": {},
     "source": [
      "R\u00f3\u017cnica pomi\u0119dzy tymi zapytaniami polega na tym, \u017ce w pierwszym przypadku szukamy ksi\u0105\u017cki, kt\u00f3rych tytu\u0142 zaczyna si\u0119 na \"A\" \n",
      "w ca\u0142ym zbiorze ksi\u0105\u017cek, a w drugi przypadku w\u015br\u00f3d ksi\u0105\u017cek napisanych przez To\u0142stoja."
     ]
    },
    {
     "cell_type": "markdown",
     "metadata": {},
     "source": [
      "Aby umo\u017cliwi\u0107 formatowanie wynik\u00f3w zapytania, IRuby udost\u0119pnia metod\u0119 `IRuby.html`, kt\u00f3ra pozwala na wy\u015bwietlanie kodu\n",
      "HTML. Przyk\u0142adowo\n",
      "```ruby\n",
      "IRuby.html \"<h1>Test HTML-a</h1>\"\n",
      "```"
     ]
    },
    {
     "cell_type": "code",
     "collapsed": false,
     "input": [
      "IRuby.html \"<h1>Test HTML-a</h1>\""
     ],
     "language": "python",
     "metadata": {},
     "outputs": [
      {
       "html": [
        "<h1>Test HTML-a</h1>"
       ],
       "metadata": {},
       "output_type": "pyout",
       "prompt_number": 8,
       "text": [
        "\"<h1>Test HTML-a</h1>\""
       ]
      }
     ],
     "prompt_number": 8
    },
    {
     "cell_type": "markdown",
     "metadata": {},
     "source": [
      "Dzi\u0119ki temu b\u0119dziemy mogli formatowa\u0107 wyniki zapyta\u0144, a wszczeg\u00f3lno\u015bci wy\u015bwietla\u0107 obrazy przedstwiaj\u0105ce autor\u00f3w oraz ksi\u0105\u017cki. \n",
      "Nale\u017cy jednak wzi\u0105\u0107 pod uwag\u0119, \u017ce nie wszystkie ksi\u0105\u017cki oraz nie wszyscy autorzy posiadaj\u0105 odpowiadaj\u0105ce im obrazki.\n",
      "Aby wy\u015bwietli\u0107 imi\u0119, nazwisko oraz obraz pierwszego autora piszemy:\n",
      "```ruby\n",
      "author = Author.where(\"image_url is not null\").first\n",
      "IRuby.html \"<h1>#{author.name} #{author.surname}</h1><img src='#{author.image_url}'/>\"\n",
      "```"
     ]
    },
    {
     "cell_type": "code",
     "collapsed": false,
     "input": [
      "author = Author.where(\"image_url is not null\").first\n",
      "IRuby.html \"<h1>#{author.name} #{author.surname}</h1><img src='#{author.image_url}'/>\""
     ],
     "language": "python",
     "metadata": {},
     "outputs": [
      {
       "html": [
        "<h1>Orson Scott Card</h1><img src='http://commons.wikimedia.org/wiki/Special:FilePath/Orson_Scott_Card_at_BYU_Symposium_20080216_closeup.jpg?width=300'/>"
       ],
       "metadata": {},
       "output_type": "pyout",
       "prompt_number": 9,
       "text": [
        "\"<h1>Orson Scott Card</h1><img src='http://commons.wikimedia.org/wiki/Special:FilePath/Orson_Scott_Card_at_BYU_Symposium_20080216_closeup.jpg?width=300'/>\""
       ]
      }
     ],
     "prompt_number": 9
    },
    {
     "cell_type": "markdown",
     "metadata": {},
     "source": [
      "Mo\u017cemy r\u00f3wnie\u017c zdefniowa\u0107 funkcj\u0119, np. `display_author`, kt\u00f3rej zadaniem b\u0119dzie wy\u015bwietlenie autora w tej postaci. \n",
      "Jedyny problem polega na tym, \u017ce funkcja `IRuby.html` mo\u017ce by\u0107 wywo\u0142ywana tylko raz. Dlatego je\u015bli chcemy wy\u015bwietli\u0107 kilku autor\u00f3w,\n",
      "musimy po\u0142\u0105czy\u0107 odpowiadaj\u0105ce im kody HTML i wynik przekaza\u0107 do funkcji `html`\n",
      "```ruby\n",
      "def display_author(author)\n",
      "  \"<h1>#{author.name} #{author.surname}</h1><img src='#{author.image_url}'/>\"\n",
      "end\n",
      "\n",
      "author_1 = Author.where(\"image_url is not null\").first\n",
      "author_2 = Author.where(\"image_url is not null\").offset(1).first\n",
      "document = display_author(author_1)\n",
      "document += display_author(author_2)\n",
      "IRuby.html document\n",
      "```"
     ]
    },
    {
     "cell_type": "code",
     "collapsed": false,
     "input": [
      "def display_author(author)\n",
      "  \"<h1>#{author.name} #{author.surname}</h1><img src='#{author.image_url}'/>\"\n",
      "end\n",
      "\n",
      "author_1 = Author.where(\"image_url is not null\").first\n",
      "author_2 = Author.where(\"image_url is not null\").offset(1).first\n",
      "document = display_author(author_1)\n",
      "document += display_author(author_2)\n",
      "IRuby.html document"
     ],
     "language": "python",
     "metadata": {},
     "outputs": [
      {
       "html": [
        "<h1>Orson Scott Card</h1><img src='http://commons.wikimedia.org/wiki/Special:FilePath/Orson_Scott_Card_at_BYU_Symposium_20080216_closeup.jpg?width=300'/><h1>Andrzej Sapkowski</h1><img src='http://commons.wikimedia.org/wiki/Special:FilePath/Sapkowski.jpg?width=300'/>"
       ],
       "metadata": {},
       "output_type": "pyout",
       "prompt_number": 10,
       "text": [
        "\"<h1>Orson Scott Card</h1><img src='http://commons.wikimedia.org/wiki/Special:FilePath/Orson_Scott_Card_at_BYU_Symposium_20080216_closeup.jpg?width=300'/><h1>Andrzej Sapkowski</h1><img src='http://commons.wikimedia.org/wiki/Special:FilePath/Sapkowski.jpg?width=300'/>\""
       ]
      }
     ],
     "prompt_number": 10
    },
    {
     "cell_type": "heading",
     "level": 2,
     "metadata": {},
     "source": [
      "Zadania"
     ]
    },
    {
     "cell_type": "heading",
     "level": 3,
     "metadata": {},
     "source": [
      "Zadanie 1"
     ]
    },
    {
     "cell_type": "markdown",
     "metadata": {},
     "source": [
      "Wy\u015bwietl wszystkich autor\u00f3w, kt\u00f3rzy urodzili si\u0119 przed rokiem 1900."
     ]
    },
    {
     "cell_type": "code",
     "collapsed": false,
     "input": [
      "authors = Author.where('born < ?', Date.parse(\"1900-01-01\"))\n",
      "authors.each do |author|\n",
      "  puts \"#{author.name} #{author.surname}  #{author.born}\"\n",
      "end"
     ],
     "language": "python",
     "metadata": {},
     "outputs": [
      {
       "output_type": "stream",
       "stream": "stdout",
       "text": [
        "Juliusz S\u0142owacki  1809-09-04\n"
       ]
      },
      {
       "output_type": "stream",
       "stream": "stdout",
       "text": [
        "Henryk Sienkiewicz  1846-05-05\n"
       ]
      },
      {
       "output_type": "stream",
       "stream": "stdout",
       "text": [
        "Eliza Orzeszkowa  1841-06-06\n"
       ]
      },
      {
       "output_type": "stream",
       "stream": "stdout",
       "text": [
        "Adam Mickiewicz  1798-12-24\n"
       ]
      },
      {
       "output_type": "stream",
       "stream": "stdout",
       "text": [
        "Jack London  1876-01-12\n"
       ]
      },
      {
       "output_type": "stream",
       "stream": "stdout",
       "text": [
        "Miko\u0142aj Kopernik  1473-02-19\n"
       ]
      },
      {
       "output_type": "stream",
       "stream": "stdout",
       "text": [
        "Maria Franciszka Koz\u0142owska  1862-05-27\n"
       ]
      },
      {
       "output_type": "stream",
       "stream": "stdout",
       "text": [
        "William Szekspir  1564-04-23\n"
       ]
      },
      {
       "output_type": "stream",
       "stream": "stdout",
       "text": [
        "John Ronald Reuel Tolkien  1892-01-03\n"
       ]
      },
      {
       "output_type": "stream",
       "stream": "stdout",
       "text": [
        "Aleksander Dumas (ojciec)  1802-07-24\n"
       ]
      },
      {
       "output_type": "stream",
       "stream": "stdout",
       "text": [
        "Tadeusz Do\u0142\u0119ga-Mostowicz  1898-08-10\n"
       ]
      },
      {
       "output_type": "stream",
       "stream": "stdout",
       "text": [
        "Vladimir Nabokov  1899-04-22\n"
       ]
      },
      {
       "output_type": "stream",
       "stream": "stdout",
       "text": [
        "Adolf Hitler  1889-04-20\n"
       ]
      },
      {
       "output_type": "stream",
       "stream": "stdout",
       "text": [
        "Benedykt Chmielowski  1700-03-20\n"
       ]
      },
      {
       "output_type": "stream",
       "stream": "stdout",
       "text": [
        "Aldous Huxley  1894-07-26\n"
       ]
      },
      {
       "output_type": "stream",
       "stream": "stdout",
       "text": [
        "Honor\u00e9 de Balzac  1799-05-20\n"
       ]
      },
      {
       "output_type": "stream",
       "stream": "stdout",
       "text": [
        "Franz Kafka  1883-07-03\n"
       ]
      },
      {
       "output_type": "stream",
       "stream": "stdout",
       "text": [
        "Howard Phillips Lovecraft  1890-08-20\n"
       ]
      },
      {
       "output_type": "stream",
       "stream": "stdout",
       "text": [
        "Lew To\u0142stoj  1828-09-09\n"
       ]
      },
      {
       "output_type": "stream",
       "stream": "stdout",
       "text": [
        "Ilja Ilf  1897-10-15\n"
       ]
      },
      {
       "output_type": "stream",
       "stream": "stdout",
       "text": [
        "Gabriela Zapolska  1857-03-30\n"
       ]
      },
      {
       "output_type": "stream",
       "stream": "stdout",
       "text": [
        "Clive Staples Lewis  1898-11-29\n"
       ]
      },
      {
       "output_type": "stream",
       "stream": "stdout",
       "text": [
        "Iwan Turgieniew  1818-11-09\n"
       ]
      },
      {
       "output_type": "stream",
       "stream": "stdout",
       "text": [
        "Lucy Maud Montgomery  1874-11-30\n"
       ]
      },
      {
       "output_type": "stream",
       "stream": "stdout",
       "text": [
        "Aleksander Majkowski  1876-07-17\n"
       ]
      },
      {
       "metadata": {},
       "output_type": "pyout",
       "prompt_number": 12,
       "text": [
        "[#<Author id: 2, name: \"Juliusz\", surname: \"S\u0142owacki\", born: \"1809-09-04\", died: \"1849-04-03\", image_url: nil>, #<Author id: 3, name: \"Henryk\", surname: \"Sienkiewicz\", born: \"1846-05-05\", died: \"1916-11-15\", image_url: nil>, #<Author id: 4, name: \"Eliza\", surname: \"Orzeszkowa\", born: \"1841-06-06\", died: \"1910-05-18\", image_url: nil>, #<Author id: 25, name: \"Adam\", surname: \"Mickiewicz\", born: \"1798-12-24\", died: \"1855-11-26\", image_url: nil>, #<Author id: 28, name: \"Jack\", surname: \"London\", born: \"1876-01-12\", died: \"1916-11-22\", image_url: \"http://commons.wikimedia.org/wiki/Special:FilePath...\">, #<Author id: 32, name: \"Miko\u0142aj\", surname: \"Kopernik\", born: \"1473-02-19\", died: \"1543-05-24\", image_url: \"http://commons.wikimedia.org/wiki/Special:FilePath...\">, #<Author id: 33, name: \"Maria Franciszka\", surname: \"Koz\u0142owska\", born: \"1862-05-27\", died: nil, image_url: \"http://commons.wikimedia.org/wiki/Special:FilePath...\">, #<Author id: 35, name: \"William\", surname: \"Szekspir\", born: \"1564-04-23\", died: \"1616-05-03\", image_url: \"http://commons.wikimedia.org/wiki/Special:FilePath...\">, #<Author id: 37, name: \"John Ronald Reuel\", surname: \"Tolkien\", born: \"1892-01-03\", died: \"1973-09-02\", image_url: \"http://commons.wikimedia.org/wiki/Special:FilePath...\">, #<Author id: 38, name: \"Aleksander Dumas\", surname: \"(ojciec)\", born: \"1802-07-24\", died: \"1870-12-05\", image_url: \"http://commons.wikimedia.org/wiki/Special:FilePath...\">, #<Author id: 39, name: \"Tadeusz\", surname: \"Do\u0142\u0119ga-Mostowicz\", born: \"1898-08-10\", died: \"1939-09-20\", image_url: \"http://commons.wikimedia.org/wiki/Special:FilePath...\">, #<Author id: 40, name: \"Vladimir\", surname: \"Nabokov\", born: \"1899-04-22\", died: \"1977-07-02\", image_url: \"http://commons.wikimedia.org/wiki/Special:FilePath...\">, #<Author id: 41, name: \"Adolf\", surname: \"Hitler\", born: \"1889-04-20\", died: \"1945-04-30\", image_url: \"http://commons.wikimedia.org/wiki/Special:FilePath...\">, #<Author id: 43, name: \"Benedykt\", surname: \"Chmielowski\", born: \"1700-03-20\", died: \"1763-04-07\", image_url: \"http://commons.wikimedia.org/wiki/Special:FilePath...\">, #<Author id: 44, name: \"Aldous\", surname: \"Huxley\", born: \"1894-07-26\", died: \"1963-11-22\", image_url: \"http://commons.wikimedia.org/wiki/Special:FilePath...\">, #<Author id: 45, name: \"Honor\u00e9 de\", surname: \"Balzac\", born: \"1799-05-20\", died: \"1850-08-18\", image_url: \"http://commons.wikimedia.org/wiki/Special:FilePath...\">, #<Author id: 46, name: \"Franz\", surname: \"Kafka\", born: \"1883-07-03\", died: \"1924-06-03\", image_url: \"http://commons.wikimedia.org/wiki/Special:FilePath...\">, #<Author id: 48, name: \"Howard Phillips\", surname: \"Lovecraft\", born: \"1890-08-20\", died: \"1937-03-15\", image_url: \"http://commons.wikimedia.org/wiki/Special:FilePath...\">, #<Author id: 50, name: \"Lew\", surname: \"To\u0142stoj\", born: \"1828-09-09\", died: \"1910-11-20\", image_url: \"http://commons.wikimedia.org/wiki/Special:FilePath...\">, #<Author id: 55, name: \"Ilja\", surname: \"Ilf\", born: \"1897-10-15\", died: \"1937-04-13\", image_url: \"http://commons.wikimedia.org/wiki/Special:FilePath...\">, #<Author id: 57, name: \"Gabriela\", surname: \"Zapolska\", born: \"1857-03-30\", died: \"1921-12-17\", image_url: \"http://commons.wikimedia.org/wiki/Special:FilePath...\">, #<Author id: 60, name: \"Clive Staples\", surname: \"Lewis\", born: \"1898-11-29\", died: \"1963-11-22\", image_url: \"http://commons.wikimedia.org/wiki/Special:FilePath...\">, #<Author id: 63, name: \"Iwan\", surname: \"Turgieniew\", born: \"1818-11-09\", died: \"1883-09-03\", image_url: \"http://commons.wikimedia.org/wiki/Special:FilePath...\">, #<Author id: 66, name: \"Lucy Maud\", surname: \"Montgomery\", born: \"1874-11-30\", died: \"1942-04-24\", image_url: \"http://commons.wikimedia.org/wiki/Special:FilePath...\">, #<Author id: 72, name: \"Aleksander\", surname: \"Majkowski\", born: \"1876-07-17\", died: \"1938-02-10\", image_url: \"http://commons.wikimedia.org/wiki/Special:FilePath...\">]"
       ]
      }
     ],
     "prompt_number": 12
    },
    {
     "cell_type": "heading",
     "level": 3,
     "metadata": {},
     "source": [
      "Zadanie 2"
     ]
    },
    {
     "cell_type": "markdown",
     "metadata": {},
     "source": [
      "Zmodyfikuj funkcj\u0119 wy\u015bwietlaj\u0105c\u0105 autor\u00f3w tak aby obejmowa\u0142a ich dat\u0119 urodzin i \u015bmierci w formacie `dzie\u0144.miesi\u0105c.rok`. Nast\u0119pnie wy\u015bwietl wszystkich autor\u00f3w,\n",
      "kt\u00f3rzy zmarli w XX wieku."
     ]
    },
    {
     "cell_type": "code",
     "collapsed": false,
     "input": [
      "authors = Author.where(died: (Date.parse(\"1901-1-1\")..Date.parse(\"2000-12-31\")))\n",
      "authors.each do |author|\n",
      "  puts \"#{author.name} #{author.surname}  \n",
      "        #{author.born.strftime(\"%d-%m-%Y\")}  #{author.died.strftime(\"%d-%m-%Y\")}\"\n",
      "end"
     ],
     "language": "python",
     "metadata": {},
     "outputs": [
      {
       "output_type": "stream",
       "stream": "stdout",
       "text": [
        "Henryk Sienkiewicz  \n",
        "        05-05-1846  15-11-1916\n"
       ]
      },
      {
       "output_type": "stream",
       "stream": "stdout",
       "text": [
        "Eliza Orzeszkowa  \n",
        "        06-06-1841  18-05-1910\n"
       ]
      },
      {
       "output_type": "stream",
       "stream": "stdout",
       "text": [
        "Jack London  \n",
        "        12-01-1876  22-11-1916\n"
       ]
      },
      {
       "output_type": "stream",
       "stream": "stdout",
       "text": [
        "Antoni Go\u0142ubiew  \n",
        "        25-02-1907  27-06-1979\n"
       ]
      },
      {
       "output_type": "stream",
       "stream": "stdout",
       "text": [
        "George Orwell  \n",
        "        25-06-1903  21-01-1950\n"
       ]
      },
      {
       "output_type": "stream",
       "stream": "stdout",
       "text": [
        "John Ronald Reuel Tolkien  \n",
        "        03-01-1892  02-09-1973\n"
       ]
      },
      {
       "output_type": "stream",
       "stream": "stdout",
       "text": [
        "Tadeusz Do\u0142\u0119ga-Mostowicz  \n",
        "        10-08-1898  20-09-1939\n"
       ]
      },
      {
       "output_type": "stream",
       "stream": "stdout",
       "text": [
        "Vladimir Nabokov  \n",
        "        22-04-1899  02-07-1977\n"
       ]
      },
      {
       "output_type": "stream",
       "stream": "stdout",
       "text": [
        "Adolf Hitler  \n",
        "        20-04-1889  30-04-1945\n"
       ]
      },
      {
       "output_type": "stream",
       "stream": "stdout",
       "text": [
        "Aldous Huxley  \n",
        "        26-07-1894  22-11-1963\n"
       ]
      },
      {
       "output_type": "stream",
       "stream": "stdout",
       "text": [
        "Franz Kafka  \n",
        "        03-07-1883  03-06-1924\n"
       ]
      },
      {
       "output_type": "stream",
       "stream": "stdout",
       "text": [
        "Howard Phillips Lovecraft  \n",
        "        20-08-1890  15-03-1937\n"
       ]
      },
      {
       "output_type": "stream",
       "stream": "stdout",
       "text": [
        "Karol Olgierd Borchardt  \n",
        "        25-03-1905  20-05-1986\n"
       ]
      },
      {
       "output_type": "stream",
       "stream": "stdout",
       "text": [
        "Lew To\u0142stoj  \n",
        "        09-09-1828  20-11-1910\n"
       ]
      },
      {
       "output_type": "stream",
       "stream": "stdout",
       "text": [
        "Janusz Zajdel  \n",
        "        15-08-1938  19-07-1985\n"
       ]
      },
      {
       "output_type": "stream",
       "stream": "stdout",
       "text": [
        "Isaac Asimov  \n",
        "        04-10-1919  06-04-1992\n"
       ]
      },
      {
       "output_type": "stream",
       "stream": "stdout",
       "text": [
        "Ilja Ilf  \n",
        "        15-10-1897  13-04-1937\n"
       ]
      },
      {
       "output_type": "stream",
       "stream": "stdout",
       "text": [
        "Jewgienij Pietrow (pisarz)  \n",
        "        13-12-1903  02-07-1942\n"
       ]
      },
      {
       "output_type": "stream",
       "stream": "stdout",
       "text": [
        "Gabriela Zapolska  \n",
        "        30-03-1857  17-12-1921\n"
       ]
      },
      {
       "output_type": "stream",
       "stream": "stdout",
       "text": [
        "Clive Staples Lewis  \n",
        "        29-11-1898  22-11-1963\n"
       ]
      },
      {
       "output_type": "stream",
       "stream": "stdout",
       "text": [
        "Lucy Maud Montgomery  \n",
        "        30-11-1874  24-04-1942\n"
       ]
      },
      {
       "output_type": "stream",
       "stream": "stdout",
       "text": [
        "Alfred Szklarski  \n",
        "        21-01-1912  09-04-1992\n"
       ]
      },
      {
       "output_type": "stream",
       "stream": "stdout",
       "text": [
        "Aleksander Majkowski  \n",
        "        17-07-1876  10-02-1938\n"
       ]
      },
      {
       "output_type": "stream",
       "stream": "stdout",
       "text": [
        "Ian Fleming  \n",
        "        28-05-1908  12-08-1964\n"
       ]
      },
      {
       "metadata": {},
       "output_type": "pyout",
       "prompt_number": 13,
       "text": [
        "[#<Author id: 3, name: \"Henryk\", surname: \"Sienkiewicz\", born: \"1846-05-05\", died: \"1916-11-15\", image_url: nil>, #<Author id: 4, name: \"Eliza\", surname: \"Orzeszkowa\", born: \"1841-06-06\", died: \"1910-05-18\", image_url: nil>, #<Author id: 28, name: \"Jack\", surname: \"London\", born: \"1876-01-12\", died: \"1916-11-22\", image_url: \"http://commons.wikimedia.org/wiki/Special:FilePath...\">, #<Author id: 31, name: \"Antoni\", surname: \"Go\u0142ubiew\", born: \"1907-02-25\", died: \"1979-06-27\", image_url: \"http://commons.wikimedia.org/wiki/Special:FilePath...\">, #<Author id: 34, name: \"George\", surname: \"Orwell\", born: \"1903-06-25\", died: \"1950-01-21\", image_url: \"http://commons.wikimedia.org/wiki/Special:FilePath...\">, #<Author id: 37, name: \"John Ronald Reuel\", surname: \"Tolkien\", born: \"1892-01-03\", died: \"1973-09-02\", image_url: \"http://commons.wikimedia.org/wiki/Special:FilePath...\">, #<Author id: 39, name: \"Tadeusz\", surname: \"Do\u0142\u0119ga-Mostowicz\", born: \"1898-08-10\", died: \"1939-09-20\", image_url: \"http://commons.wikimedia.org/wiki/Special:FilePath...\">, #<Author id: 40, name: \"Vladimir\", surname: \"Nabokov\", born: \"1899-04-22\", died: \"1977-07-02\", image_url: \"http://commons.wikimedia.org/wiki/Special:FilePath...\">, #<Author id: 41, name: \"Adolf\", surname: \"Hitler\", born: \"1889-04-20\", died: \"1945-04-30\", image_url: \"http://commons.wikimedia.org/wiki/Special:FilePath...\">, #<Author id: 44, name: \"Aldous\", surname: \"Huxley\", born: \"1894-07-26\", died: \"1963-11-22\", image_url: \"http://commons.wikimedia.org/wiki/Special:FilePath...\">, #<Author id: 46, name: \"Franz\", surname: \"Kafka\", born: \"1883-07-03\", died: \"1924-06-03\", image_url: \"http://commons.wikimedia.org/wiki/Special:FilePath...\">, #<Author id: 48, name: \"Howard Phillips\", surname: \"Lovecraft\", born: \"1890-08-20\", died: \"1937-03-15\", image_url: \"http://commons.wikimedia.org/wiki/Special:FilePath...\">, #<Author id: 49, name: \"Karol Olgierd\", surname: \"Borchardt\", born: \"1905-03-25\", died: \"1986-05-20\", image_url: \"http://commons.wikimedia.org/wiki/Special:FilePath...\">, #<Author id: 50, name: \"Lew\", surname: \"To\u0142stoj\", born: \"1828-09-09\", died: \"1910-11-20\", image_url: \"http://commons.wikimedia.org/wiki/Special:FilePath...\">, #<Author id: 52, name: \"Janusz\", surname: \"Zajdel\", born: \"1938-08-15\", died: \"1985-07-19\", image_url: \"http://commons.wikimedia.org/wiki/Special:FilePath...\">, #<Author id: 54, name: \"Isaac\", surname: \"Asimov\", born: \"1919-10-04\", died: \"1992-04-06\", image_url: \"http://commons.wikimedia.org/wiki/Special:FilePath...\">, #<Author id: 55, name: \"Ilja\", surname: \"Ilf\", born: \"1897-10-15\", died: \"1937-04-13\", image_url: \"http://commons.wikimedia.org/wiki/Special:FilePath...\">, #<Author id: 56, name: \"Jewgienij Pietrow\", surname: \"(pisarz)\", born: \"1903-12-13\", died: \"1942-07-02\", image_url: \"http://commons.wikimedia.org/wiki/Special:FilePath...\">, #<Author id: 57, name: \"Gabriela\", surname: \"Zapolska\", born: \"1857-03-30\", died: \"1921-12-17\", image_url: \"http://commons.wikimedia.org/wiki/Special:FilePath...\">, #<Author id: 60, name: \"Clive Staples\", surname: \"Lewis\", born: \"1898-11-29\", died: \"1963-11-22\", image_url: \"http://commons.wikimedia.org/wiki/Special:FilePath...\">, #<Author id: 66, name: \"Lucy Maud\", surname: \"Montgomery\", born: \"1874-11-30\", died: \"1942-04-24\", image_url: \"http://commons.wikimedia.org/wiki/Special:FilePath...\">, #<Author id: 68, name: \"Alfred\", surname: \"Szklarski\", born: \"1912-01-21\", died: \"1992-04-09\", image_url: \"http://commons.wikimedia.org/wiki/Special:FilePath...\">, #<Author id: 72, name: \"Aleksander\", surname: \"Majkowski\", born: \"1876-07-17\", died: \"1938-02-10\", image_url: \"http://commons.wikimedia.org/wiki/Special:FilePath...\">, #<Author id: 73, name: \"Ian\", surname: \"Fleming\", born: \"1908-05-28\", died: \"1964-08-12\", image_url: \"http://commons.wikimedia.org/wiki/Special:FilePath...\">]"
       ]
      }
     ],
     "prompt_number": 13
    },
    {
     "cell_type": "heading",
     "level": 3,
     "metadata": {},
     "source": [
      "Zadanie 3"
     ]
    },
    {
     "cell_type": "markdown",
     "metadata": {},
     "source": [
      "Wy\u015bwietl 5 najm\u0142odszych autor\u00f3w, kt\u00f3rzy posiadaj\u0105 przypisane zdj\u0119cie."
     ]
    },
    {
     "cell_type": "code",
     "collapsed": false,
     "input": [
      "authors = Author.where(\"image_url is not null\").order(\"born desc\"). limit(5)\n",
      "authors_s = \"\"\n",
      "authors.each do |author|\n",
      "   authors_s << \"<h1>#{author.name} #{author.surname} #{author.born} </h1><img src='#{author.image_url}'/>\" \n",
      "end\n",
      "IRuby.html authors_s"
     ],
     "language": "python",
     "metadata": {},
     "outputs": [
      {
       "html": [
        "<h1>Andrzej Pilipiuk 1974-03-20 </h1><img src='http://commons.wikimedia.org/wiki/Special:FilePath/Andrzej_Pilipiuk-Polcon2006.jpg?width=300'/><h1>J. K. Rowling 1965-07-31 </h1><img src='http://commons.wikimedia.org/wiki/Special:FilePath/J._K._Rowling_2010.jpg?width=300'/><h1>Rafa\u0142 A. Ziemkiewicz 1964-09-13 </h1><img src='http://commons.wikimedia.org/wiki/Special:FilePath/Rafa\u0142_Ziemkiewicz.jpg?width=300'/><h1>Boris Akunin 1956-05-20 </h1><img src='http://commons.wikimedia.org/wiki/Special:FilePath/Boris_Akunin_2012.jpg?width=300'/><h1>Orson Scott Card 1951-08-24 </h1><img src='http://commons.wikimedia.org/wiki/Special:FilePath/Orson_Scott_Card_at_BYU_Symposium_20080216_closeup.jpg?width=300'/>"
       ],
       "metadata": {},
       "output_type": "pyout",
       "prompt_number": 14,
       "text": [
        "\"<h1>Andrzej Pilipiuk 1974-03-20 </h1><img src='http://commons.wikimedia.org/wiki/Special:FilePath/Andrzej_Pilipiuk-Polcon2006.jpg?width=300'/><h1>J. K. Rowling 1965-07-31 </h1><img src='http://commons.wikimedia.org/wiki/Special:FilePath/J._K._Rowling_2010.jpg?width=300'/><h1>Rafa\u0142 A. Ziemkiewicz 1964-09-13 </h1><img src='http://commons.wikimedia.org/wiki/Special:FilePath/Rafa\u0142_Ziemkiewicz.jpg?width=300'/><h1>Boris Akunin 1956-05-20 </h1><img src='http://commons.wikimedia.org/wiki/Special:FilePath/Boris_Akunin_2012.jpg?width=300'/><h1>Orson Scott Card 1951-08-24 </h1><img src='http://commons.wikimedia.org/wiki/Special:FilePath/Orson_Scott_Card_at_BYU_Symposium_20080216_closeup.jpg?width=300'/>\""
       ]
      }
     ],
     "prompt_number": 14
    },
    {
     "cell_type": "heading",
     "level": 3,
     "metadata": {},
     "source": [
      "Zadanie 4"
     ]
    },
    {
     "cell_type": "markdown",
     "metadata": {},
     "source": [
      "Zdefiniuj funkcj\u0119 `display_book`, kt\u00f3ra b\u0119dzie zwraca\u0142a fragment kodu HTML obejmuj\u0105cy tytu\u0142 ksi\u0105\u017cki, rok jej wydania oraz\n",
      "przypisany obrazek.\n",
      "Wy\u015bwietl najwcze\u015bniej wydan\u0105 ksi\u0105\u017ck\u0119."
     ]
    },
    {
     "cell_type": "code",
     "collapsed": false,
     "input": [
      "def display_book()\n",
      "  books = \"\"\n",
      "  book = Book.order(\"published asc\").where(\"published is not null\").first \n",
      "  books << \"<h1>#{book.title};\n",
      "            wydanie: #{book.published} </h1><img src='#{book.author.image_url}'/>\"\n",
      "\n",
      "  IRuby.html books\n",
      "end\n",
      "\n",
      "display_book()\n"
     ],
     "language": "python",
     "metadata": {},
     "outputs": [
      {
       "html": [
        "<h1>Ojcowie i dzieci;\n",
        "            wydanie: 0 </h1><img src='http://commons.wikimedia.org/wiki/Special:FilePath/Turgenev_by_Repin.jpg?width=300'/>"
       ],
       "metadata": {},
       "output_type": "pyout",
       "prompt_number": 15,
       "text": [
        "\"<h1>Ojcowie i dzieci;\\n            wydanie: 0 </h1><img src='http://commons.wikimedia.org/wiki/Special:FilePath/Turgenev_by_Repin.jpg?width=300'/>\""
       ]
      }
     ],
     "prompt_number": 15
    },
    {
     "cell_type": "heading",
     "level": 3,
     "metadata": {},
     "source": [
      "Zadanie 5"
     ]
    },
    {
     "cell_type": "markdown",
     "metadata": {},
     "source": [
      "Wy\u015bwietl wszystkie ksi\u0105\u017cki, kt\u00f3re nie maj\u0105 przypisanego roku wydania."
     ]
    },
    {
     "cell_type": "code",
     "collapsed": false,
     "input": [
      "Book.where(\"published is null\").each do |book|\n",
      "  puts \"#{book.title} #{book.author.surname}\"\n",
      "end"
     ],
     "language": "python",
     "metadata": {},
     "outputs": [
      {
       "output_type": "stream",
       "stream": "stdout",
       "text": [
        "V\u00e9gj\u00e1t\u00e9k (reg\u00e9ny) Card\n"
       ]
      },
      {
       "output_type": "stream",
       "stream": "stdout",
       "text": [
        "Hamlet Szekspir\n"
       ]
      },
      {
       "metadata": {},
       "output_type": "pyout",
       "prompt_number": 19,
       "text": [
        "[#<Book id: 1, title: \"V\u00e9gj\u00e1t\u00e9k (reg\u00e9ny)\", language: nil, author_id: 26, published: nil, image_url: nil>, #<Book id: 10, title: \"Hamlet\", language: nil, author_id: 35, published: nil, image_url: \"http://commons.wikimedia.org/wiki/Special:FilePath...\">]"
       ]
      }
     ],
     "prompt_number": 19
    },
    {
     "cell_type": "heading",
     "level": 3,
     "metadata": {},
     "source": [
      "Zadanie 6"
     ]
    },
    {
     "cell_type": "markdown",
     "metadata": {},
     "source": [
      "Zmodyfikuj funkcj\u0119 `display_author` tak, aby wy\u015bwietla\u0142a r\u00f3wnie\u017c wszystkie ksi\u0105\u017cki napisane przez autora. U\u017cyj znacznika `<ul>`.\n",
      "Korzystaj\u0105c z tej funkcji wy\u015bwietl opis Stanis\u0142awa Lema."
     ]
    },
    {
     "cell_type": "code",
     "collapsed": false,
     "input": [
      "def display_author(author)\n",
      "  author = Author.where(surname: author).first\n",
      "  str = \"\"\n",
      "  str << \"<h1>#{author.name} #{author.surname}</h1><img src='#{author.image_url}'/><ul>\"\n",
      "  author.books.each do |book|\n",
      "    str << \"<li>#{book.title} #{book.published}</li>\"\n",
      "  end\n",
      "  str << \"</ul>\"\n",
      "end\n",
      "\n",
      "document = display_author(\"Lem\")\n",
      "\n",
      "IRuby.html document"
     ],
     "language": "python",
     "metadata": {},
     "outputs": [
      {
       "html": [
        "<h1>Stanis\u0142aw Lem</h1><img src='http://commons.wikimedia.org/wiki/Special:FilePath/Stanislaw_Lem_2.jpg?width=300'/><ul><li>Bajki robot\u00f3w 1964</li><li>Solaris (powie\u015b\u0107) 1961</li><li>Bezsenno\u015b\u0107 (zbi\u00f3r opowiada\u0144) 1971</li><li>G\u0142os Pana 1968</li><li>Inwazja z Aldebarana (zbi\u00f3r opowiada\u0144) 1959</li><li>Katar (powie\u015b\u0107) 1976</li><li>Ksi\u0119ga robot\u00f3w 1961</li><li>Maska (zbi\u00f3r dzie\u0142) 1976</li><li>Niezwyci\u0119\u017cony i inne opowiadania 1964</li><li>Noc ksi\u0119\u017cycowa 1963</li><li>Pami\u0119tnik znaleziony w wannie 1961</li><li>Polowanie (zbi\u00f3r opowiada\u0144) 1965</li><li>Powt\u00f3rka (zbi\u00f3r dzie\u0142) 1979</li><li>Po\u017cytek ze smoka 1993</li><li>Rasa drapie\u017cc\u00f3w. Teksty ostatnie 2006</li><li>Sezam i inne opowiadania 1954</li><li>Summa technologiae 1964</li><li>Wizja lokalna (powie\u015b\u0107) 1982</li></ul>"
       ],
       "metadata": {},
       "output_type": "pyout",
       "prompt_number": 37,
       "text": [
        "\"<h1>Stanis\u0142aw Lem</h1><img src='http://commons.wikimedia.org/wiki/Special:FilePath/Stanislaw_Lem_2.jpg?width=300'/><ul><li>Bajki robot\u00f3w 1964</li><li>Solaris (powie\u015b\u0107) 1961</li><li>Bezsenno\u015b\u0107 (zbi\u00f3r opowiada\u0144) 1971</li><li>G\u0142os Pana 1968</li><li>Inwazja z Aldebarana (zbi\u00f3r opowiada\u0144) 1959</li><li>Katar (powie\u015b\u0107) 1976</li><li>Ksi\u0119ga robot\u00f3w 1961</li><li>Maska (zbi\u00f3r dzie\u0142) 1976</li><li>Niezwyci\u0119\u017cony i inne opowiadania 1964</li><li>Noc ksi\u0119\u017cycowa 1963</li><li>Pami\u0119tnik znaleziony w wannie 1961</li><li>Polowanie (zbi\u00f3r opowiada\u0144) 1965</li><li>Powt\u00f3rka (zbi\u00f3r dzie\u0142) 1979</li><li>Po\u017cytek ze smoka 1993</li><li>Rasa drapie\u017cc\u00f3w. Teksty ostatnie 2006</li><li>Sezam i inne opowiadania 1954</li><li>Summa technologiae 1964</li><li>Wizja lokalna (powie\u015b\u0107) 1982</li></ul>\""
       ]
      }
     ],
     "prompt_number": 37
    },
    {
     "cell_type": "heading",
     "level": 3,
     "metadata": {},
     "source": [
      "Zadanie 7"
     ]
    },
    {
     "cell_type": "markdown",
     "metadata": {},
     "source": [
      "W\u015br\u00f3d ksi\u0105\u017cek napisanych przez Lema wy\u015bwietl wszystkie, kt\u00f3re zawieraja w tytule s\u0142owo \"zbi\u00f3r\"."
     ]
    },
    {
     "cell_type": "code",
     "collapsed": false,
     "input": [
      "def display_author(author)\n",
      "  author = Author.where(surname: author).first\n",
      "  str = \"\"\n",
      "  str << \"<h1>#{author.name} #{author.surname}</h1><img src='#{author.image_url}'/><ul>\"\n",
      "  books = author.books.where(\"title like '%zbi\u00f3r%'\")\n",
      "  books.each do |book|\n",
      "   str << \"<li>#{book.title}</li>\"\n",
      "  end\n",
      "  str << \"</ul>\"\n",
      "end\n",
      "\n",
      "document = display_author(\"Lem\")\n",
      "\n",
      "IRuby.html document"
     ],
     "language": "python",
     "metadata": {},
     "outputs": [
      {
       "html": [
        "<h1>Stanis\u0142aw Lem</h1><img src='http://commons.wikimedia.org/wiki/Special:FilePath/Stanislaw_Lem_2.jpg?width=300'/><ul><li>Bezsenno\u015b\u0107 (zbi\u00f3r opowiada\u0144)</li><li>Inwazja z Aldebarana (zbi\u00f3r opowiada\u0144)</li><li>Maska (zbi\u00f3r dzie\u0142)</li><li>Polowanie (zbi\u00f3r opowiada\u0144)</li><li>Powt\u00f3rka (zbi\u00f3r dzie\u0142)</li></ul>"
       ],
       "metadata": {},
       "output_type": "pyout",
       "prompt_number": 33,
       "text": [
        "\"<h1>Stanis\u0142aw Lem</h1><img src='http://commons.wikimedia.org/wiki/Special:FilePath/Stanislaw_Lem_2.jpg?width=300'/><ul><li>Bezsenno\u015b\u0107 (zbi\u00f3r opowiada\u0144)</li><li>Inwazja z Aldebarana (zbi\u00f3r opowiada\u0144)</li><li>Maska (zbi\u00f3r dzie\u0142)</li><li>Polowanie (zbi\u00f3r opowiada\u0144)</li><li>Powt\u00f3rka (zbi\u00f3r dzie\u0142)</li></ul>\""
       ]
      }
     ],
     "prompt_number": 33
    },
    {
     "cell_type": "heading",
     "level": 3,
     "metadata": {},
     "source": [
      "Zadanie 8"
     ]
    },
    {
     "cell_type": "markdown",
     "metadata": {},
     "source": [
      "W\u015br\u00f3d ksi\u0105\u017cek napisanych przez Lema wy\u015bwietl te, kt\u00f3re zosta\u0142y wydane w roku jego \u015bmierci."
     ]
    },
    {
     "cell_type": "code",
     "collapsed": false,
     "input": [
      "def display_author(author)\n",
      "  author = Author.where(surname: author).first\n",
      "  str = \"\"\n",
      "  str << \"<h1>#{author.name} #{author.surname} </h1><img src='#{author.image_url}'/><ul>\"\n",
      "  books = author.books.where(\"published like '2006'\")\n",
      "  books.each do |book|\n",
      "   str << \"<li>#{book.title}</li>\"\n",
      "  end\n",
      "  str << \"</ul>\"\n",
      "end\n",
      "\n",
      "document = display_author(\"Lem\")\n",
      "\n",
      "IRuby.html document"
     ],
     "language": "python",
     "metadata": {},
     "outputs": [
      {
       "html": [
        "<h1>Stanis\u0142aw Lem </h1><img src='http://commons.wikimedia.org/wiki/Special:FilePath/Stanislaw_Lem_2.jpg?width=300'/><ul><li>Rasa drapie\u017cc\u00f3w. Teksty ostatnie</li></ul>"
       ],
       "metadata": {},
       "output_type": "pyout",
       "prompt_number": 148,
       "text": [
        "\"<h1>Stanis\u0142aw Lem </h1><img src='http://commons.wikimedia.org/wiki/Special:FilePath/Stanislaw_Lem_2.jpg?width=300'/><ul><li>Rasa drapie\u017cc\u00f3w. Teksty ostatnie</li></ul>\""
       ]
      }
     ],
     "prompt_number": 148
    },
    {
     "cell_type": "heading",
     "level": 3,
     "metadata": {},
     "source": [
      "Zadanie 9"
     ]
    },
    {
     "cell_type": "markdown",
     "metadata": {},
     "source": [
      "Wy\u015bwietl wszystkie ksi\u0105\u017cki znajduj\u0105ce si\u0119 w bazie. Opis powinien zawiera\u0107 tytu\u0142, imi\u0119 i nazwisko autora, rok wydania oraz \n",
      "obraz przedstawiaj\u0105cy ksi\u0105\u017ck\u0119 (o ile istnieje)."
     ]
    },
    {
     "cell_type": "code",
     "collapsed": false,
     "input": [
      "books = Book.all\n",
      "str = \"\"\n",
      "str << \"<ul>\"\n",
      "books.each do |book|\n",
      " str << \"<li>#{book.title} #{book.author.name} #{book.author.surname} #{book.published} <img src='#{book.author.image_url}'/></li>\"\n",
      "end\n",
      "str << \"</ul>\"\n",
      "document = str\n",
      "\n",
      "IRuby.html document"
     ],
     "language": "python",
     "metadata": {},
     "outputs": [
      {
       "html": [
        "<ul><li>V\u00e9gj\u00e1t\u00e9k (reg\u00e9ny) Orson Scott Card  <img src='http://commons.wikimedia.org/wiki/Special:FilePath/Orson_Scott_Card_at_BYU_Symposium_20080216_closeup.jpg?width=300'/></li><li>Pani Jeziora (powie\u015b\u0107) Andrzej Sapkowski 1999 <img src='http://commons.wikimedia.org/wiki/Special:FilePath/Sapkowski.jpg?width=300'/></li><li>Bellew Zawierucha Jack London 1912 <img src='http://commons.wikimedia.org/wiki/Special:FilePath/JackLondon02.jpeg?width=300'/></li><li>Fa\u0142szywy trop (powie\u015b\u0107) Henning Mankell 1995 <img src='http://commons.wikimedia.org/wiki/Special:FilePath/Henning_Mankell_3_2011_Shankbone.jpg?width=300'/></li><li>Bajki robot\u00f3w Stanis\u0142aw Lem 1964 <img src='http://commons.wikimedia.org/wiki/Special:FilePath/Stanislaw_Lem_2.jpg?width=300'/></li><li>Boles\u0142aw Chrobry (powie\u015b\u0107) Antoni Go\u0142ubiew 1947 <img src='http://commons.wikimedia.org/wiki/Special:FilePath/Antoni_Golubiew.jpg?width=300'/></li><li>De revolutionibus orbium coelestium Miko\u0142aj Kopernik 1543 <img src='http://commons.wikimedia.org/wiki/Special:FilePath/Nikolaus_Kopernikus.jpg?width=300'/></li><li>Dzie\u0142o Wielkiego Mi\u0142osierdzia Maria Franciszka Koz\u0142owska 1922 <img src='http://commons.wikimedia.org/wiki/Special:FilePath/Mateczk_Koz\u0142owska.JPG?width=300'/></li><li>Folwark zwierz\u0119cy George Orwell 1945 <img src='http://commons.wikimedia.org/wiki/Special:FilePath/GeoreOrwell.jpg?width=300'/></li><li>Hamlet William Szekspir  <img src='http://commons.wikimedia.org/wiki/Special:FilePath/Shakespeare.jpg?width=300'/></li><li>Harry Potter J. K. Rowling 1997 <img src='http://commons.wikimedia.org/wiki/Special:FilePath/J._K._Rowling_2010.jpg?width=300'/></li><li>Hobbit, czyli tam i z powrotem John Ronald Reuel Tolkien 1937 <img src='http://commons.wikimedia.org/wiki/Special:FilePath/Tolkien_1916.jpg?width=300'/></li><li>Hrabia Monte Christo Aleksander Dumas (ojciec) 1844 <img src='http://commons.wikimedia.org/wiki/Special:FilePath/Dumas_by_Nadar,_1855.jpg?width=300'/></li><li>Kariera Nikodema Dyzmy Tadeusz Do\u0142\u0119ga-Mostowicz 1932 <img src='http://commons.wikimedia.org/wiki/Special:FilePath/Tadeusz_Dolega-Mostowicz.jpg?width=300'/></li><li>Krzy\u017cacy (powie\u015b\u0107) Henryk Sienkiewicz 1900 <img src=''/></li><li>Lolita Vladimir Nabokov 1955 <img src='http://commons.wikimedia.org/wiki/Special:FilePath/Monument_Nabokov_Montreux_23.12.2006.jpg?width=300'/></li><li>Mein Kampf Adolf Hitler 1925 <img src='http://commons.wikimedia.org/wiki/Special:FilePath/Hitler_portrait_crop.jpg?width=300'/></li><li>Nad Niemnem Eliza Orzeszkowa 1888 <img src=''/></li><li>Niedoko\u0144czone opowie\u015bci Christopher Tolkien 1980 <img src=''/></li><li>Nowe Ateny Benedykt Chmielowski 1745 <img src='http://commons.wikimedia.org/wiki/Special:FilePath/POL_COA_Na\u0142\u0119cz.svg?width=300'/></li><li>Nowy wspania\u0142y \u015bwiat Aldous Huxley 1932 <img src='http://commons.wikimedia.org/wiki/Special:FilePath/Aldous_Huxley.JPG?width=300'/></li><li>Ogniem i mieczem Henryk Sienkiewicz 1884 <img src=''/></li><li>Ojciec Goriot Honor\u00e9 de Balzac 1835 <img src='http://commons.wikimedia.org/wiki/Special:FilePath/HBalzac.jpg?width=300'/></li><li>Proces (powie\u015b\u0107) Franz Kafka 1925 <img src='http://commons.wikimedia.org/wiki/Special:FilePath/Kafka1906.jpg?width=300'/></li><li>Psa\u0142terz Dawid\u00f3w Jan Kochanowski 1579 <img src='http://commons.wikimedia.org/wiki/Special:FilePath/Jan_Kochanowski.png?width=300'/></li><li>Quo vadis Henryk Sienkiewicz 1896 <img src=''/></li><li>Romeo i Julia William Szekspir 1597 <img src='http://commons.wikimedia.org/wiki/Special:FilePath/Shakespeare.jpg?width=300'/></li><li>Silmarillion John Ronald Reuel Tolkien 1977 <img src='http://commons.wikimedia.org/wiki/Special:FilePath/Tolkien_1916.jpg?width=300'/></li><li>Solaris (powie\u015b\u0107) Stanis\u0142aw Lem 1961 <img src='http://commons.wikimedia.org/wiki/Special:FilePath/Stanislaw_Lem_2.jpg?width=300'/></li><li>W\u0142adca Pier\u015bcieni John Ronald Reuel Tolkien 1954 <img src='http://commons.wikimedia.org/wiki/Special:FilePath/Tolkien_1916.jpg?width=300'/></li><li>Zew Cthulhu (opowiadanie) Howard Phillips Lovecraft 1928 <img src='http://commons.wikimedia.org/wiki/Special:FilePath/Howard_Phillips_Lovecraft_in_1915.jpg?width=300'/></li><li>Znaczy Kapitan Karol Olgierd Borchardt 1960 <img src='http://commons.wikimedia.org/wiki/Special:FilePath/Karol_Olgierd_Borchardt's_house_in_Gdynia.jpg?width=300'/></li><li>Anna Karenina Lew To\u0142stoj 1877 <img src='http://commons.wikimedia.org/wiki/Special:FilePath/Ilya_Efimovich_Repin_(1844-1930)_-_Portrait_of_Leo_Tolstoy_(1887).jpg?width=300'/></li><li>Azazel (powie\u015b\u0107) Boris Akunin 1998 <img src='http://commons.wikimedia.org/wiki/Special:FilePath/Boris_Akunin_2012.jpg?width=300'/></li><li>Bezsenno\u015b\u0107 (zbi\u00f3r opowiada\u0144) Stanis\u0142aw Lem 1971 <img src='http://commons.wikimedia.org/wiki/Special:FilePath/Stanislaw_Lem_2.jpg?width=300'/></li><li>Ca\u0142a prawda o planecie Ksi Janusz Zajdel 1983 <img src='http://commons.wikimedia.org/wiki/Special:FilePath/Janusz_A_Zajdel.jpg?width=300'/></li><li>Dekorator Boris Akunin 1998 <img src='http://commons.wikimedia.org/wiki/Special:FilePath/Boris_Akunin_2012.jpg?width=300'/></li><li>Diamentowa karoca Boris Akunin 2003 <img src='http://commons.wikimedia.org/wiki/Special:FilePath/Boris_Akunin_2012.jpg?width=300'/></li><li>Dives in misericordia Jan Pawe\u0142 II 1980 <img src='http://commons.wikimedia.org/wiki/Special:FilePath/John_Paul_II_Medal_of_Freedom_2004.jpg?width=300'/></li><li>Droga na molo w Wigan George Orwell 1937 <img src='http://commons.wikimedia.org/wiki/Special:FilePath/GeoreOrwell.jpg?width=300'/></li><li>Druga Fundacja Isaac Asimov 1953 <img src='http://commons.wikimedia.org/wiki/Special:FilePath/Isaac.Asimov01.jpg?width=300'/></li><li>Dwana\u015bcie krzese\u0142 Ilja Ilf 1928 <img src='http://commons.wikimedia.org/wiki/Special:FilePath/Ilya_Ilf.jpg?width=300'/></li><li>Fundacja (powie\u015b\u0107) Isaac Asimov 1951 <img src='http://commons.wikimedia.org/wiki/Special:FilePath/Isaac.Asimov01.jpg?width=300'/></li><li>Fundacja i Imperium Isaac Asimov 1952 <img src='http://commons.wikimedia.org/wiki/Special:FilePath/Isaac.Asimov01.jpg?width=300'/></li><li>Gambit turecki Boris Akunin 1998 <img src='http://commons.wikimedia.org/wiki/Special:FilePath/Boris_Akunin_2012.jpg?width=300'/></li><li>G\u0142os Pana Stanis\u0142aw Lem 1968 <img src='http://commons.wikimedia.org/wiki/Special:FilePath/Stanislaw_Lem_2.jpg?width=300'/></li><li>Ich czworo Gabriela Zapolska 1907 <img src='http://commons.wikimedia.org/wiki/Special:FilePath/Gabriela_Zapolska.PNG?width=300'/></li><li>Inwazja z Aldebarana (zbi\u00f3r opowiada\u0144) Stanis\u0142aw Lem 1959 <img src='http://commons.wikimedia.org/wiki/Special:FilePath/Stanislaw_Lem_2.jpg?width=300'/></li><li>Kamienna ma\u0142pa Jeffery Deaver 2002 <img src='http://commons.wikimedia.org/wiki/Special:FilePath/Jeffery_Deaver_October_2006.jpg?width=300'/></li><li>Katar (powie\u015b\u0107) Stanis\u0142aw Lem 1976 <img src='http://commons.wikimedia.org/wiki/Special:FilePath/Stanislaw_Lem_2.jpg?width=300'/></li><li>Kochanek \u015amierci Boris Akunin 2001 <img src='http://commons.wikimedia.org/wiki/Special:FilePath/Boris_Akunin_2012.jpg?width=300'/></li><li>Kochanka \u015amierci Boris Akunin 2001 <img src='http://commons.wikimedia.org/wiki/Special:FilePath/Boris_Akunin_2012.jpg?width=300'/></li><li>Koronacja (powie\u015b\u0107) Boris Akunin 1999 <img src='http://commons.wikimedia.org/wiki/Special:FilePath/Boris_Akunin_2012.jpg?width=300'/></li><li>Kot w stanie czystym Terry Pratchett 1989 <img src='http://commons.wikimedia.org/wiki/Special:FilePath/Terry_Pratchett,_September_2009_1.jpg?width=300'/></li><li>Ko\u0144 i jego ch\u0142opiec Clive Staples Lewis 1954 <img src='http://commons.wikimedia.org/wiki/Special:FilePath/Statue_of_C.S._Lewis,_Belfast.jpg?width=300'/></li><li>Ksi\u0119ga robot\u00f3w Stanis\u0142aw Lem 1961 <img src='http://commons.wikimedia.org/wiki/Special:FilePath/Stanislaw_Lem_2.jpg?width=300'/></li><li>Ksi\u0119gi narodu polskiego i pielgrzymstwa polskiego Adam Mickiewicz 1832 <img src=''/></li><li>Kuzynki Andrzej Pilipiuk 2003 <img src='http://commons.wikimedia.org/wiki/Special:FilePath/Andrzej_Pilipiuk-Polcon2006.jpg?width=300'/></li><li>Lewa r\u0119ka ciemno\u015bci Ursula K. Le Guin 1969 <img src='http://commons.wikimedia.org/wiki/Special:FilePath/UrsulaLeGuin.01.jpg?width=300'/></li><li>Lewiatan (powie\u015b\u0107) Boris Akunin 1998 <img src='http://commons.wikimedia.org/wiki/Special:FilePath/Boris_Akunin_2012.jpg?width=300'/></li><li>Mag (powie\u015b\u0107 J. Deavera) Jeffery Deaver 2003 <img src='http://commons.wikimedia.org/wiki/Special:FilePath/Jeffery_Deaver_October_2006.jpg?width=300'/></li><li>Maska (zbi\u00f3r dzie\u0142) Stanis\u0142aw Lem 1976 <img src='http://commons.wikimedia.org/wiki/Special:FilePath/Stanislaw_Lem_2.jpg?width=300'/></li><li>Niezwyci\u0119\u017cony i inne opowiadania Stanis\u0142aw Lem 1964 <img src='http://commons.wikimedia.org/wiki/Special:FilePath/Stanislaw_Lem_2.jpg?width=300'/></li><li>Noc ksi\u0119\u017cycowa Stanis\u0142aw Lem 1963 <img src='http://commons.wikimedia.org/wiki/Special:FilePath/Stanislaw_Lem_2.jpg?width=300'/></li><li>Ojcowie i dzieci Iwan Turgieniew 0 <img src='http://commons.wikimedia.org/wiki/Special:FilePath/Turgenev_by_Repin.jpg?width=300'/></li><li>Pami\u0119tnik znaleziony w wannie Stanis\u0142aw Lem 1961 <img src='http://commons.wikimedia.org/wiki/Special:FilePath/Stanislaw_Lem_2.jpg?width=300'/></li><li>Pie\u015b\u0144 Lodu i Ognia George R. R. Martin 1996 <img src='http://commons.wikimedia.org/wiki/Special:FilePath/George_R_R_Martin_2011_Shankbone.JPG?width=300'/></li><li>Podr\u00f3\u017ce z Herodotem Ryszard Kapu\u015bci\u0144ski 2004 <img src='http://commons.wikimedia.org/wiki/Special:FilePath/Ryszard_Kapuscinski_by_Kubik_17.05.1997_-_cropped.jpg?width=300'/></li><li>Polowanie (zbi\u00f3r opowiada\u0144) Stanis\u0142aw Lem 1965 <img src='http://commons.wikimedia.org/wiki/Special:FilePath/Stanislaw_Lem_2.jpg?width=300'/></li><li>Powt\u00f3rka (zbi\u00f3r dzie\u0142) Stanis\u0142aw Lem 1979 <img src='http://commons.wikimedia.org/wiki/Special:FilePath/Stanislaw_Lem_2.jpg?width=300'/></li><li>Po\u017cytek ze smoka Stanis\u0142aw Lem 1993 <img src='http://commons.wikimedia.org/wiki/Special:FilePath/Stanislaw_Lem_2.jpg?width=300'/></li><li>Preludium Fundacji Isaac Asimov 1988 <img src='http://commons.wikimedia.org/wiki/Special:FilePath/Isaac.Asimov01.jpg?width=300'/></li><li>Radca stanu (powie\u015b\u0107) Boris Akunin 1998 <img src='http://commons.wikimedia.org/wiki/Special:FilePath/Boris_Akunin_2012.jpg?width=300'/></li><li>Rasa drapie\u017cc\u00f3w. Teksty ostatnie Stanis\u0142aw Lem 2006 <img src='http://commons.wikimedia.org/wiki/Special:FilePath/Stanislaw_Lem_2.jpg?width=300'/></li><li>Rilla ze Z\u0142otego Brzegu Lucy Maud Montgomery 1921 <img src='http://commons.wikimedia.org/wiki/Special:FilePath/Lucy_Maud_Montgomery.JPG?width=300'/></li><li>Sen nocy letniej William Szekspir 1600 <img src='http://commons.wikimedia.org/wiki/Special:FilePath/Shakespeare.jpg?width=300'/></li><li>Sezam i inne opowiadania Stanis\u0142aw Lem 1954 <img src='http://commons.wikimedia.org/wiki/Special:FilePath/Stanislaw_Lem_2.jpg?width=300'/></li><li>Slavorum apostoli Jan Pawe\u0142 II 1985 <img src='http://commons.wikimedia.org/wiki/Special:FilePath/John_Paul_II_Medal_of_Freedom_2004.jpg?width=300'/></li><li>Summa technologiae Stanis\u0142aw Lem 1964 <img src='http://commons.wikimedia.org/wiki/Special:FilePath/Stanislaw_Lem_2.jpg?width=300'/></li><li>Tam gdzie spadaj\u0105 anio\u0142y Dorota Terakowska 1998 <img src='http://commons.wikimedia.org/wiki/Special:FilePath/Dorota_Terakowska_grob.jpg?width=300'/></li><li>Tomek u \u017ar\u00f3de\u0142 Amazonki Alfred Szklarski 1967 <img src='http://commons.wikimedia.org/wiki/Special:FilePath/Katowice_-_pomnik_Alfred_Szklarski.JPG?width=300'/></li><li>Tomek w Gran Chaco Alfred Szklarski 1987 <img src='http://commons.wikimedia.org/wiki/Special:FilePath/Katowice_-_pomnik_Alfred_Szklarski.JPG?width=300'/></li><li>Tomek w grobowcach faraon\u00f3w Alfred Szklarski 1994 <img src='http://commons.wikimedia.org/wiki/Special:FilePath/Katowice_-_pomnik_Alfred_Szklarski.JPG?width=300'/></li><li>Ut unum sint Jan Pawe\u0142 II 1995 <img src='http://commons.wikimedia.org/wiki/Special:FilePath/John_Paul_II_Medal_of_Freedom_2004.jpg?width=300'/></li><li>Veritatis splendor Jan Pawe\u0142 II 1993 <img src='http://commons.wikimedia.org/wiki/Special:FilePath/John_Paul_II_Medal_of_Freedom_2004.jpg?width=300'/></li><li>Walc stulecia Rafa\u0142 A. Ziemkiewicz 1998 <img src='http://commons.wikimedia.org/wiki/Special:FilePath/Rafa\u0142_Ziemkiewicz.jpg?width=300'/></li><li>Walet pikowy (powie\u015b\u0107) Boris Akunin 1998 <img src='http://commons.wikimedia.org/wiki/Special:FilePath/Boris_Akunin_2012.jpg?width=300'/></li><li>Wampir Lestat Anne Rice 1985 <img src='http://commons.wikimedia.org/wiki/Special:FilePath/Anne_Rice.jpg?width=300'/></li><li>Wizja lokalna (powie\u015b\u0107) Stanis\u0142aw Lem 1982 <img src='http://commons.wikimedia.org/wiki/Special:FilePath/Stanislaw_Lem_2.jpg?width=300'/></li><li>Wojna i pok\u00f3j Lew To\u0142stoj 1865 <img src='http://commons.wikimedia.org/wiki/Special:FilePath/Ilya_Efimovich_Repin_(1844-1930)_-_Portrait_of_Leo_Tolstoy_(1887).jpg?width=300'/></li><li>\u015amier\u0107 Achillesa Boris Akunin 1998 <img src='http://commons.wikimedia.org/wiki/Special:FilePath/Boris_Akunin_2012.jpg?width=300'/></li><li>\u017bycie i przygody Remusa Aleksander Majkowski 1938 <img src='http://commons.wikimedia.org/wiki/Special:FilePath/POL_Polonia_Restituta_Oficerski_BAR.svg?width=300'/></li><li>Casino Royale (powie\u015b\u0107) Ian Fleming 1953 <img src='http://commons.wikimedia.org/wiki/Special:FilePath/For_Your_Eyes_Only.jpg?width=300'/></li><li>Cie\u0144 kata Gene Wolfe 1980 <img src='http://commons.wikimedia.org/wiki/Special:FilePath/Gene_Wolfe,_2005.png?width=300'/></li><li>Czarnoksi\u0119\u017cnik z Archipelagu Ursula K. Le Guin 1968 <img src='http://commons.wikimedia.org/wiki/Special:FilePath/UrsulaLeGuin.01.jpg?width=300'/></li><li>Czarownica z Portobello Paulo Coelho 2006 <img src='http://commons.wikimedia.org/wiki/Special:FilePath/Paulo_Coelho_nrkbeta.jpg?width=300'/></li><li>Czas patriot\u00f3w (powie\u015b\u0107) Tom Clancy 1987 <img src='http://commons.wikimedia.org/wiki/Special:FilePath/Tom_Clancy_at_Burns_Library_cropped.jpg?width=300'/></li></ul>"
       ],
       "metadata": {},
       "output_type": "pyout",
       "prompt_number": 66,
       "text": [
        "\"<ul><li>V\u00e9gj\u00e1t\u00e9k (reg\u00e9ny) Orson Scott Card  <img src='http://commons.wikimedia.org/wiki/Special:FilePath/Orson_Scott_Card_at_BYU_Symposium_20080216_closeup.jpg?width=300'/></li><li>Pani Jeziora (powie\u015b\u0107) Andrzej Sapkowski 1999 <img src='http://commons.wikimedia.org/wiki/Special:FilePath/Sapkowski.jpg?width=300'/></li><li>Bellew Zawierucha Jack London 1912 <img src='http://commons.wikimedia.org/wiki/Special:FilePath/JackLondon02.jpeg?width=300'/></li><li>Fa\u0142szywy trop (powie\u015b\u0107) Henning Mankell 1995 <img src='http://commons.wikimedia.org/wiki/Special:FilePath/Henning_Mankell_3_2011_Shankbone.jpg?width=300'/></li><li>Bajki robot\u00f3w Stanis\u0142aw Lem 1964 <img src='http://commons.wikimedia.org/wiki/Special:FilePath/Stanislaw_Lem_2.jpg?width=300'/></li><li>Boles\u0142aw Chrobry (powie\u015b\u0107) Antoni Go\u0142ubiew 1947 <img src='http://commons.wikimedia.org/wiki/Special:FilePath/Antoni_Golubiew.jpg?width=300'/></li><li>De revolutionibus orbium coelestium Miko\u0142aj Kopernik 1543 <img src='http://commons.wikimedia.org/wiki/Special:FilePath/Nikolaus_Kopernikus.jpg?width=300'/></li><li>Dzie\u0142o Wielkiego Mi\u0142osierdzia Maria Franciszka Koz\u0142owska 1922 <img src='http://commons.wikimedia.org/wiki/Special:FilePath/Mateczk_Koz\u0142owska.JPG?width=300'/></li><li>Folwark zwierz\u0119cy George Orwell 1945 <img src='http://commons.wikimedia.org/wiki/Special:FilePath/GeoreOrwell.jpg?width=300'/></li><li>Hamlet William Szekspir  <img src='http://commons.wikimedia.org/wiki/Special:FilePath/Shakespeare.jpg?width=300'/></li><li>Harry Potter J. K. Rowling 1997 <img src='http://commons.wikimedia.org/wiki/Special:FilePath/J._K._Rowling_2010.jpg?width=300'/></li><li>Hobbit, czyli tam i z powrotem John Ronald Reuel Tolkien 1937 <img src='http://commons.wikimedia.org/wiki/Special:FilePath/Tolkien_1916.jpg?width=300'/></li><li>Hrabia Monte Christo Aleksander Dumas (ojciec) 1844 <img src='http://commons.wikimedia.org/wiki/Special:FilePath/Dumas_by_Nadar,_1855.jpg?width=300'/></li><li>Kariera Nikodema Dyzmy Tadeusz Do\u0142\u0119ga-Mostowicz 1932 <img src='http://commons.wikimedia.org/wiki/Special:FilePath/Tadeusz_Dolega-Mostowicz.jpg?width=300'/></li><li>Krzy\u017cacy (powie\u015b\u0107) Henryk Sienkiewicz 1900 <img src=''/></li><li>Lolita Vladimir Nabokov 1955 <img src='http://commons.wikimedia.org/wiki/Special:FilePath/Monument_Nabokov_Montreux_23.12.2006.jpg?width=300'/></li><li>Mein Kampf Adolf Hitler 1925 <img src='http://commons.wikimedia.org/wiki/Special:FilePath/Hitler_portrait_crop.jpg?width=300'/></li><li>Nad Niemnem Eliza Orzeszkowa 1888 <img src=''/></li><li>Niedoko\u0144czone opowie\u015bci Christopher Tolkien 1980 <img src=''/></li><li>Nowe Ateny Benedykt Chmielowski 1745 <img src='http://commons.wikimedia.org/wiki/Special:FilePath/POL_COA_Na\u0142\u0119cz.svg?width=300'/></li><li>Nowy wspania\u0142y \u015bwiat Aldous Huxley 1932 <img src='http://commons.wikimedia.org/wiki/Special:FilePath/Aldous_Huxley.JPG?width=300'/></li><li>Ogniem i mieczem Henryk Sienkiewicz 1884 <img src=''/></li><li>Ojciec Goriot Honor\u00e9 de Balzac 1835 <img src='http://commons.wikimedia.org/wiki/Special:FilePath/HBalzac.jpg?width=300'/></li><li>Proces (powie\u015b\u0107) Franz Kafka 1925 <img src='http://commons.wikimedia.org/wiki/Special:FilePath/Kafka1906.jpg?width=300'/></li><li>Psa\u0142terz Dawid\u00f3w Jan Kochanowski 1579 <img src='http://commons.wikimedia.org/wiki/Special:FilePath/Jan_Kochanowski.png?width=300'/></li><li>Quo vadis Henryk Sienkiewicz 1896 <img src=''/></li><li>Romeo i Julia William Szekspir 1597 <img src='http://commons.wikimedia.org/wiki/Special:FilePath/Shakespeare.jpg?width=300'/></li><li>Silmarillion John Ronald Reuel Tolkien 1977 <img src='http://commons.wikimedia.org/wiki/Special:FilePath/Tolkien_1916.jpg?width=300'/></li><li>Solaris (powie\u015b\u0107) Stanis\u0142aw Lem 1961 <img src='http://commons.wikimedia.org/wiki/Special:FilePath/Stanislaw_Lem_2.jpg?width=300'/></li><li>W\u0142adca Pier\u015bcieni John Ronald Reuel Tolkien 1954 <img src='http://commons.wikimedia.org/wiki/Special:FilePath/Tolkien_1916.jpg?width=300'/></li><li>Zew Cthulhu (opowiadanie) Howard Phillips Lovecraft 1928 <img src='http://commons.wikimedia.org/wiki/Special:FilePath/Howard_Phillips_Lovecraft_in_1915.jpg?width=300'/></li><li>Znaczy Kapitan Karol Olgierd Borchardt 1960 <img src='http://commons.wikimedia.org/wiki/Special:FilePath/Karol_Olgierd_Borchardt's_house_in_Gdynia.jpg?width=300'/></li><li>Anna Karenina Lew To\u0142stoj 1877 <img src='http://commons.wikimedia.org/wiki/Special:FilePath/Ilya_Efimovich_Repin_(1844-1930)_-_Portrait_of_Leo_Tolstoy_(1887).jpg?width=300'/></li><li>Azazel (powie\u015b\u0107) Boris Akunin 1998 <img src='http://commons.wikimedia.org/wiki/Special:FilePath/Boris_Akunin_2012.jpg?width=300'/></li><li>Bezsenno\u015b\u0107 (zbi\u00f3r opowiada\u0144) Stanis\u0142aw Lem 1971 <img src='http://commons.wikimedia.org/wiki/Special:FilePath/Stanislaw_Lem_2.jpg?width=300'/></li><li>Ca\u0142a prawda o planecie Ksi Janusz Zajdel 1983 <img src='http://commons.wikimedia.org/wiki/Special:FilePath/Janusz_A_Zajdel.jpg?width=300'/></li><li>Dekorator Boris Akunin 1998 <img src='http://commons.wikimedia.org/wiki/Special:FilePath/Boris_Akunin_2012.jpg?width=300'/></li><li>Diamentowa karoca Boris Akunin 2003 <img src='http://commons.wikimedia.org/wiki/Special:FilePath/Boris_Akunin_2012.jpg?width=300'/></li><li>Dives in misericordia Jan Pawe\u0142 II 1980 <img src='http://commons.wikimedia.org/wiki/Special:FilePath/John_Paul_II_Medal_of_Freedom_2004.jpg?width=300'/></li><li>Droga na molo w Wigan George Orwell 1937 <img src='http://commons.wikimedia.org/wiki/Special:FilePath/GeoreOrwell.jpg?width=300'/></li><li>Druga Fundacja Isaac Asimov 1953 <img src='http://commons.wikimedia.org/wiki/Special:FilePath/Isaac.Asimov01.jpg?width=300'/></li><li>Dwana\u015bcie krzese\u0142 Ilja Ilf 1928 <img src='http://commons.wikimedia.org/wiki/Special:FilePath/Ilya_Ilf.jpg?width=300'/></li><li>Fundacja (powie\u015b\u0107) Isaac Asimov 1951 <img src='http://commons.wikimedia.org/wiki/Special:FilePath/Isaac.Asimov01.jpg?width=300'/></li><li>Fundacja i Imperium Isaac Asimov 1952 <img src='http://commons.wikimedia.org/wiki/Special:FilePath/Isaac.Asimov01.jpg?width=300'/></li><li>Gambit turecki Boris Akunin 1998 <img src='http://commons.wikimedia.org/wiki/Special:FilePath/Boris_Akunin_2012.jpg?width=300'/></li><li>G\u0142os Pana Stanis\u0142aw Lem 1968 <img src='http://commons.wikimedia.org/wiki/Special:FilePath/Stanislaw_Lem_2.jpg?width=300'/></li><li>Ich czworo Gabriela Zapolska 1907 <img src='http://commons.wikimedia.org/wiki/Special:FilePath/Gabriela_Zapolska.PNG?width=300'/></li><li>Inwazja z Aldebarana (zbi\u00f3r opowiada\u0144) Stanis\u0142aw Lem 1959 <img src='http://commons.wikimedia.org/wiki/Special:FilePath/Stanislaw_Lem_2.jpg?width=300'/></li><li>Kamienna ma\u0142pa Jeffery Deaver 2002 <img src='http://commons.wikimedia.org/wiki/Special:FilePath/Jeffery_Deaver_October_2006.jpg?width=300'/></li><li>Katar (powie\u015b\u0107) Stanis\u0142aw Lem 1976 <img src='http://commons.wikimedia.org/wiki/Special:FilePath/Stanislaw_Lem_2.jpg?width=300'/></li><li>Kochanek \u015amierci Boris Akunin 2001 <img src='http://commons.wikimedia.org/wiki/Special:FilePath/Boris_Akunin_2012.jpg?width=300'/></li><li>Kochanka \u015amierci Boris Akunin 2001 <img src='http://commons.wikimedia.org/wiki/Special:FilePath/Boris_Akunin_2012.jpg?width=300'/></li><li>Koronacja (powie\u015b\u0107) Boris Akunin 1999 <img src='http://commons.wikimedia.org/wiki/Special:FilePath/Boris_Akunin_2012.jpg?width=300'/></li><li>Kot w stanie czystym Terry Pratchett 1989 <img src='http://commons.wikimedia.org/wiki/Special:FilePath/Terry_Pratchett,_September_2009_1.jpg?width=300'/></li><li>Ko\u0144 i jego ch\u0142opiec Clive Staples Lewis 1954 <img src='http://commons.wikimedia.org/wiki/Special:FilePath/Statue_of_C.S._Lewis,_Belfast.jpg?width=300'/></li><li>Ksi\u0119ga robot\u00f3w Stanis\u0142aw Lem 1961 <img src='http://commons.wikimedia.org/wiki/Special:FilePath/Stanislaw_Lem_2.jpg?width=300'/></li><li>Ksi\u0119gi narodu polskiego i pielgrzymstwa polskiego Adam Mickiewicz 1832 <img src=''/></li><li>Kuzynki Andrzej Pilipiuk 2003 <img src='http://commons.wikimedia.org/wiki/Special:FilePath/Andrzej_Pilipiuk-Polcon2006.jpg?width=300'/></li><li>Lewa r\u0119ka ciemno\u015bci Ursula K. Le Guin 1969 <img src='http://commons.wikimedia.org/wiki/Special:FilePath/UrsulaLeGuin.01.jpg?width=300'/></li><li>Lewiatan (powie\u015b\u0107) Boris Akunin 1998 <img src='http://commons.wikimedia.org/wiki/Special:FilePath/Boris_Akunin_2012.jpg?width=300'/></li><li>Mag (powie\u015b\u0107 J. Deavera) Jeffery Deaver 2003 <img src='http://commons.wikimedia.org/wiki/Special:FilePath/Jeffery_Deaver_October_2006.jpg?width=300'/></li><li>Maska (zbi\u00f3r dzie\u0142) Stanis\u0142aw Lem 1976 <img src='http://commons.wikimedia.org/wiki/Special:FilePath/Stanislaw_Lem_2.jpg?width=300'/></li><li>Niezwyci\u0119\u017cony i inne opowiadania Stanis\u0142aw Lem 1964 <img src='http://commons.wikimedia.org/wiki/Special:FilePath/Stanislaw_Lem_2.jpg?width=300'/></li><li>Noc ksi\u0119\u017cycowa Stanis\u0142aw Lem 1963 <img src='http://commons.wikimedia.org/wiki/Special:FilePath/Stanislaw_Lem_2.jpg?width=300'/></li><li>Ojcowie i dzieci Iwan Turgieniew 0 <img src='http://commons.wikimedia.org/wiki/Special:FilePath/Turgenev_by_Repin.jpg?width=300'/></li><li>Pami\u0119tnik znaleziony w wannie Stanis\u0142aw Lem 1961 <img src='http://commons.wikimedia.org/wiki/Special:FilePath/Stanislaw_Lem_2.jpg?width=300'/></li><li>Pie\u015b\u0144 Lodu i Ognia George R. R. Martin 1996 <img src='http://commons.wikimedia.org/wiki/Special:FilePath/George_R_R_Martin_2011_Shankbone.JPG?width=300'/></li><li>Podr\u00f3\u017ce z Herodotem Ryszard Kapu\u015bci\u0144ski 2004 <img src='http://commons.wikimedia.org/wiki/Special:FilePath/Ryszard_Kapuscinski_by_Kubik_17.05.1997_-_cropped.jpg?width=300'/></li><li>Polowanie (zbi\u00f3r opowiada\u0144) Stanis\u0142aw Lem 1965 <img src='http://commons.wikimedia.org/wiki/Special:FilePath/Stanislaw_Lem_2.jpg?width=300'/></li><li>Powt\u00f3rka (zbi\u00f3r dzie\u0142) Stanis\u0142aw Lem 1979 <img src='http://commons.wikimedia.org/wiki/Special:FilePath/Stanislaw_Lem_2.jpg?width=300'/></li><li>Po\u017cytek ze smoka Stanis\u0142aw Lem 1993 <img src='http://commons.wikimedia.org/wiki/Special:FilePath/Stanislaw_Lem_2.jpg?width=300'/></li><li>Preludium Fundacji Isaac Asimov 1988 <img src='http://commons.wikimedia.org/wiki/Special:FilePath/Isaac.Asimov01.jpg?width=300'/></li><li>Radca stanu (powie\u015b\u0107) Boris Akunin 1998 <img src='http://commons.wikimedia.org/wiki/Special:FilePath/Boris_Akunin_2012.jpg?width=300'/></li><li>Rasa drapie\u017cc\u00f3w. Teksty ostatnie Stanis\u0142aw Lem 2006 <img src='http://commons.wikimedia.org/wiki/Special:FilePath/Stanislaw_Lem_2.jpg?width=300'/></li><li>Rilla ze Z\u0142otego Brzegu Lucy Maud Montgomery 1921 <img src='http://commons.wikimedia.org/wiki/Special:FilePath/Lucy_Maud_Montgomery.JPG?width=300'/></li><li>Sen nocy letniej William Szekspir 1600 <img src='http://commons.wikimedia.org/wiki/Special:FilePath/Shakespeare.jpg?width=300'/></li><li>Sezam i inne opowiadania Stanis\u0142aw Lem 1954 <img src='http://commons.wikimedia.org/wiki/Special:FilePath/Stanislaw_Lem_2.jpg?width=300'/></li><li>Slavorum apostoli Jan Pawe\u0142 II 1985 <img src='http://commons.wikimedia.org/wiki/Special:FilePath/John_Paul_II_Medal_of_Freedom_2004.jpg?width=300'/></li><li>Summa technologiae Stanis\u0142aw Lem 1964 <img src='http://commons.wikimedia.org/wiki/Special:FilePath/Stanislaw_Lem_2.jpg?width=300'/></li><li>Tam gdzie spadaj\u0105 anio\u0142y Dorota Terakowska 1998 <img src='http://commons.wikimedia.org/wiki/Special:FilePath/Dorota_Terakowska_grob.jpg?width=300'/></li><li>Tomek u \u017ar\u00f3de\u0142 Amazonki Alfred Szklarski 1967 <img src='http://commons.wikimedia.org/wiki/Special:FilePath/Katowice_-_pomnik_Alfred_Szklarski.JPG?width=300'/></li><li>Tomek w Gran Chaco Alfred Szklarski 1987 <img src='http://commons.wikimedia.org/wiki/Special:FilePath/Katowice_-_pomnik_Alfred_Szklarski.JPG?width=300'/></li><li>Tomek w grobowcach faraon\u00f3w Alfred Szklarski 1994 <img src='http://commons.wikimedia.org/wiki/Special:FilePath/Katowice_-_pomnik_Alfred_Szklarski.JPG?width=300'/></li><li>Ut unum sint Jan Pawe\u0142 II 1995 <img src='http://commons.wikimedia.org/wiki/Special:FilePath/John_Paul_II_Medal_of_Freedom_2004.jpg?width=300'/></li><li>Veritatis splendor Jan Pawe\u0142 II 1993 <img src='http://commons.wikimedia.org/wiki/Special:FilePath/John_Paul_II_Medal_of_Freedom_2004.jpg?width=300'/></li><li>Walc stulecia Rafa\u0142 A. Ziemkiewicz 1998 <img src='http://commons.wikimedia.org/wiki/Special:FilePath/Rafa\u0142_Ziemkiewicz.jpg?width=300'/></li><li>Walet pikowy (powie\u015b\u0107) Boris Akunin 1998 <img src='http://commons.wikimedia.org/wiki/Special:FilePath/Boris_Akunin_2012.jpg?width=300'/></li><li>Wampir Lestat Anne Rice 1985 <img src='http://commons.wikimedia.org/wiki/Special:FilePath/Anne_Rice.jpg?width=300'/></li><li>Wizja lokalna (powie\u015b\u0107) Stanis\u0142aw Lem 1982 <img src='http://commons.wikimedia.org/wiki/Special:FilePath/Stanislaw_Lem_2.jpg?width=300'/></li><li>Wojna i pok\u00f3j Lew To\u0142stoj 1865 <img src='http://commons.wikimedia.org/wiki/Special:FilePath/Ilya_Efimovich_Repin_(1844-1930)_-_Portrait_of_Leo_Tolstoy_(1887).jpg?width=300'/></li><li>\u015amier\u0107 Achillesa Boris Akunin 1998 <img src='http://commons.wikimedia.org/wiki/Special:FilePath/Boris_Akunin_2012.jpg?width=300'/></li><li>\u017bycie i przygody Remusa Aleksander Majkowski 1938 <img src='http://commons.wikimedia.org/wiki/Special:FilePath/POL_Polonia_Restituta_Oficerski_BAR.svg?width=300'/></li><li>Casino Royale (powie\u015b\u0107) Ian Fleming 1953 <img src='http://commons.wikimedia.org/wiki/Special:FilePath/For_Your_Eyes_Only.jpg?width=300'/></li><li>Cie\u0144 kata Gene Wolfe 1980 <img src='http://commons.wikimedia.org/wiki/Special:FilePath/Gene_Wolfe,_2005.png?width=300'/></li><li>Czarnoksi\u0119\u017cnik z Archipelagu Ursula K. Le Guin 1968 <img src='http://commons.wikimedia.org/wiki/Special:FilePath/UrsulaLeGuin.01.jpg?width=300'/></li><li>Czarownica z Portobello Paulo Coelho 2006 <img src='http://commons.wikimedia.org/wiki/Special:FilePath/Paulo_Coelho_nrkbeta.jpg?width=300'/></li><li>Czas patriot\u00f3w (powie\u015b\u0107) Tom Clancy 1987 <img src='http://commons.wikimedia.org/wiki/Special:FilePath/Tom_Clancy_at_Burns_Library_cropped.jpg?width=300'/></li></ul>\""
       ]
      }
     ],
     "prompt_number": 66
    },
    {
     "cell_type": "heading",
     "level": 3,
     "metadata": {},
     "source": [
      "Zadanie 10"
     ]
    },
    {
     "cell_type": "markdown",
     "metadata": {},
     "source": [
      "Wy\u015bwietl wszystkich autor\u00f3w znajduj\u0105cych si\u0119 w bazie wraz z opisem zawieraj\u0105cym ich zdj\u0119cie, dat\u0119 urodzin i \u015bmierci oraz spis \n",
      "opublikowanych ksi\u0105\u017cek. Pami\u0119taj o odpowiednim sformatowaniu dat oraz o tym, \u017ce nie wszyscy autorzy maj\u0105 przypisane wszystkie\n",
      "informacje."
     ]
    },
    {
     "cell_type": "code",
     "collapsed": false,
     "input": [
      "def display_author\n",
      "  authors = Author.all\n",
      "  str = \"\"\n",
      "  str << \"<ul>\"\n",
      "  authors.each do |author|\n",
      "    str << \" <h1>#{author.name} #{author.surname}</h1>  urodzony: #{author.born}  \n",
      "             <br> zmar\u0142: #{author.died} <img src='#{author.image_url}'/>\"\n",
      "    author.books.each do |book|\n",
      "    str << \"<li>#{book.title}</li>\"\n",
      "    end\n",
      "  end\n",
      "  str << \"</ul>\"\n",
      "end\n",
      "\n",
      "document = display_author\n",
      "\n",
      "IRuby.html document\n"
     ],
     "language": "python",
     "metadata": {},
     "outputs": [
      {
       "html": [
        "<ul> <h1>Juliusz S\u0142owacki</h1>  urodzony: 1809-09-04  \n",
        "             <br> zmar\u0142: 1849-04-03 <img src=''/> <h1>Henryk Sienkiewicz</h1>  urodzony: 1846-05-05  \n",
        "             <br> zmar\u0142: 1916-11-15 <img src=''/><li>Krzy\u017cacy (powie\u015b\u0107)</li><li>Ogniem i mieczem</li><li>Quo vadis</li> <h1>Eliza Orzeszkowa</h1>  urodzony: 1841-06-06  \n",
        "             <br> zmar\u0142: 1910-05-18 <img src=''/><li>Nad Niemnem</li> <h1>Adam Mickiewicz</h1>  urodzony: 1798-12-24  \n",
        "             <br> zmar\u0142: 1855-11-26 <img src=''/><li>Ksi\u0119gi narodu polskiego i pielgrzymstwa polskiego</li> <h1>Orson Scott Card</h1>  urodzony: 1951-08-24  \n",
        "             <br> zmar\u0142:  <img src='http://commons.wikimedia.org/wiki/Special:FilePath/Orson_Scott_Card_at_BYU_Symposium_20080216_closeup.jpg?width=300'/><li>V\u00e9gj\u00e1t\u00e9k (reg\u00e9ny)</li> <h1>Andrzej Sapkowski</h1>  urodzony: 1948-06-21  \n",
        "             <br> zmar\u0142:  <img src='http://commons.wikimedia.org/wiki/Special:FilePath/Sapkowski.jpg?width=300'/><li>Pani Jeziora (powie\u015b\u0107)</li> <h1>Jack London</h1>  urodzony: 1876-01-12  \n",
        "             <br> zmar\u0142: 1916-11-22 <img src='http://commons.wikimedia.org/wiki/Special:FilePath/JackLondon02.jpeg?width=300'/><li>Bellew Zawierucha</li> <h1>Henning Mankell</h1>  urodzony: 1948-02-03  \n",
        "             <br> zmar\u0142:  <img src='http://commons.wikimedia.org/wiki/Special:FilePath/Henning_Mankell_3_2011_Shankbone.jpg?width=300'/><li>Fa\u0142szywy trop (powie\u015b\u0107)</li> <h1>Stanis\u0142aw Lem</h1>  urodzony: 1921-09-12  \n",
        "             <br> zmar\u0142: 2006-03-27 <img src='http://commons.wikimedia.org/wiki/Special:FilePath/Stanislaw_Lem_2.jpg?width=300'/><li>Bajki robot\u00f3w</li><li>Solaris (powie\u015b\u0107)</li><li>Bezsenno\u015b\u0107 (zbi\u00f3r opowiada\u0144)</li><li>G\u0142os Pana</li><li>Inwazja z Aldebarana (zbi\u00f3r opowiada\u0144)</li><li>Katar (powie\u015b\u0107)</li><li>Ksi\u0119ga robot\u00f3w</li><li>Maska (zbi\u00f3r dzie\u0142)</li><li>Niezwyci\u0119\u017cony i inne opowiadania</li><li>Noc ksi\u0119\u017cycowa</li><li>Pami\u0119tnik znaleziony w wannie</li><li>Polowanie (zbi\u00f3r opowiada\u0144)</li><li>Powt\u00f3rka (zbi\u00f3r dzie\u0142)</li><li>Po\u017cytek ze smoka</li><li>Rasa drapie\u017cc\u00f3w. Teksty ostatnie</li><li>Sezam i inne opowiadania</li><li>Summa technologiae</li><li>Wizja lokalna (powie\u015b\u0107)</li> <h1>Antoni Go\u0142ubiew</h1>  urodzony: 1907-02-25  \n",
        "             <br> zmar\u0142: 1979-06-27 <img src='http://commons.wikimedia.org/wiki/Special:FilePath/Antoni_Golubiew.jpg?width=300'/><li>Boles\u0142aw Chrobry (powie\u015b\u0107)</li> <h1>Miko\u0142aj Kopernik</h1>  urodzony: 1473-02-19  \n",
        "             <br> zmar\u0142: 1543-05-24 <img src='http://commons.wikimedia.org/wiki/Special:FilePath/Nikolaus_Kopernikus.jpg?width=300'/><li>De revolutionibus orbium coelestium</li> <h1>Maria Franciszka Koz\u0142owska</h1>  urodzony: 1862-05-27  \n",
        "             <br> zmar\u0142:  <img src='http://commons.wikimedia.org/wiki/Special:FilePath/Mateczk_Koz\u0142owska.JPG?width=300'/><li>Dzie\u0142o Wielkiego Mi\u0142osierdzia</li> <h1>George Orwell</h1>  urodzony: 1903-06-25  \n",
        "             <br> zmar\u0142: 1950-01-21 <img src='http://commons.wikimedia.org/wiki/Special:FilePath/GeoreOrwell.jpg?width=300'/><li>Folwark zwierz\u0119cy</li><li>Droga na molo w Wigan</li> <h1>William Szekspir</h1>  urodzony: 1564-04-23  \n",
        "             <br> zmar\u0142: 1616-05-03 <img src='http://commons.wikimedia.org/wiki/Special:FilePath/Shakespeare.jpg?width=300'/><li>Hamlet</li><li>Romeo i Julia</li><li>Sen nocy letniej</li> <h1>J. K. Rowling</h1>  urodzony: 1965-07-31  \n",
        "             <br> zmar\u0142:  <img src='http://commons.wikimedia.org/wiki/Special:FilePath/J._K._Rowling_2010.jpg?width=300'/><li>Harry Potter</li> <h1>John Ronald Reuel Tolkien</h1>  urodzony: 1892-01-03  \n",
        "             <br> zmar\u0142: 1973-09-02 <img src='http://commons.wikimedia.org/wiki/Special:FilePath/Tolkien_1916.jpg?width=300'/><li>Hobbit, czyli tam i z powrotem</li><li>Silmarillion</li><li>W\u0142adca Pier\u015bcieni</li> <h1>Aleksander Dumas (ojciec)</h1>  urodzony: 1802-07-24  \n",
        "             <br> zmar\u0142: 1870-12-05 <img src='http://commons.wikimedia.org/wiki/Special:FilePath/Dumas_by_Nadar,_1855.jpg?width=300'/><li>Hrabia Monte Christo</li> <h1>Tadeusz Do\u0142\u0119ga-Mostowicz</h1>  urodzony: 1898-08-10  \n",
        "             <br> zmar\u0142: 1939-09-20 <img src='http://commons.wikimedia.org/wiki/Special:FilePath/Tadeusz_Dolega-Mostowicz.jpg?width=300'/><li>Kariera Nikodema Dyzmy</li> <h1>Vladimir Nabokov</h1>  urodzony: 1899-04-22  \n",
        "             <br> zmar\u0142: 1977-07-02 <img src='http://commons.wikimedia.org/wiki/Special:FilePath/Monument_Nabokov_Montreux_23.12.2006.jpg?width=300'/><li>Lolita</li> <h1>Adolf Hitler</h1>  urodzony: 1889-04-20  \n",
        "             <br> zmar\u0142: 1945-04-30 <img src='http://commons.wikimedia.org/wiki/Special:FilePath/Hitler_portrait_crop.jpg?width=300'/><li>Mein Kampf</li> <h1>Christopher Tolkien</h1>  urodzony: 1924-11-21  \n",
        "             <br> zmar\u0142:  <img src=''/><li>Niedoko\u0144czone opowie\u015bci</li> <h1>Benedykt Chmielowski</h1>  urodzony: 1700-03-20  \n",
        "             <br> zmar\u0142: 1763-04-07 <img src='http://commons.wikimedia.org/wiki/Special:FilePath/POL_COA_Na\u0142\u0119cz.svg?width=300'/><li>Nowe Ateny</li> <h1>Aldous Huxley</h1>  urodzony: 1894-07-26  \n",
        "             <br> zmar\u0142: 1963-11-22 <img src='http://commons.wikimedia.org/wiki/Special:FilePath/Aldous_Huxley.JPG?width=300'/><li>Nowy wspania\u0142y \u015bwiat</li> <h1>Honor\u00e9 de Balzac</h1>  urodzony: 1799-05-20  \n",
        "             <br> zmar\u0142: 1850-08-18 <img src='http://commons.wikimedia.org/wiki/Special:FilePath/HBalzac.jpg?width=300'/><li>Ojciec Goriot</li> <h1>Franz Kafka</h1>  urodzony: 1883-07-03  \n",
        "             <br> zmar\u0142: 1924-06-03 <img src='http://commons.wikimedia.org/wiki/Special:FilePath/Kafka1906.jpg?width=300'/><li>Proces (powie\u015b\u0107)</li> <h1>Jan Kochanowski</h1>  urodzony:   \n",
        "             <br> zmar\u0142: 1584-08-22 <img src='http://commons.wikimedia.org/wiki/Special:FilePath/Jan_Kochanowski.png?width=300'/><li>Psa\u0142terz Dawid\u00f3w</li> <h1>Howard Phillips Lovecraft</h1>  urodzony: 1890-08-20  \n",
        "             <br> zmar\u0142: 1937-03-15 <img src='http://commons.wikimedia.org/wiki/Special:FilePath/Howard_Phillips_Lovecraft_in_1915.jpg?width=300'/><li>Zew Cthulhu (opowiadanie)</li> <h1>Karol Olgierd Borchardt</h1>  urodzony: 1905-03-25  \n",
        "             <br> zmar\u0142: 1986-05-20 <img src='http://commons.wikimedia.org/wiki/Special:FilePath/Karol_Olgierd_Borchardt's_house_in_Gdynia.jpg?width=300'/><li>Znaczy Kapitan</li> <h1>Lew To\u0142stoj</h1>  urodzony: 1828-09-09  \n",
        "             <br> zmar\u0142: 1910-11-20 <img src='http://commons.wikimedia.org/wiki/Special:FilePath/Ilya_Efimovich_Repin_(1844-1930)_-_Portrait_of_Leo_Tolstoy_(1887).jpg?width=300'/><li>Anna Karenina</li><li>Wojna i pok\u00f3j</li> <h1>Boris Akunin</h1>  urodzony: 1956-05-20  \n",
        "             <br> zmar\u0142:  <img src='http://commons.wikimedia.org/wiki/Special:FilePath/Boris_Akunin_2012.jpg?width=300'/><li>Azazel (powie\u015b\u0107)</li><li>Dekorator</li><li>Diamentowa karoca</li><li>Gambit turecki</li><li>Kochanek \u015amierci</li><li>Kochanka \u015amierci</li><li>Koronacja (powie\u015b\u0107)</li><li>Lewiatan (powie\u015b\u0107)</li><li>Radca stanu (powie\u015b\u0107)</li><li>Walet pikowy (powie\u015b\u0107)</li><li>\u015amier\u0107 Achillesa</li> <h1>Janusz Zajdel</h1>  urodzony: 1938-08-15  \n",
        "             <br> zmar\u0142: 1985-07-19 <img src='http://commons.wikimedia.org/wiki/Special:FilePath/Janusz_A_Zajdel.jpg?width=300'/><li>Ca\u0142a prawda o planecie Ksi</li> <h1>Jan Pawe\u0142 II</h1>  urodzony: 1920-05-18  \n",
        "             <br> zmar\u0142: 2005-04-02 <img src='http://commons.wikimedia.org/wiki/Special:FilePath/John_Paul_II_Medal_of_Freedom_2004.jpg?width=300'/><li>Dives in misericordia</li><li>Slavorum apostoli</li><li>Ut unum sint</li><li>Veritatis splendor</li> <h1>Isaac Asimov</h1>  urodzony: 1919-10-04  \n",
        "             <br> zmar\u0142: 1992-04-06 <img src='http://commons.wikimedia.org/wiki/Special:FilePath/Isaac.Asimov01.jpg?width=300'/><li>Druga Fundacja</li><li>Fundacja (powie\u015b\u0107)</li><li>Fundacja i Imperium</li><li>Preludium Fundacji</li> <h1>Ilja Ilf</h1>  urodzony: 1897-10-15  \n",
        "             <br> zmar\u0142: 1937-04-13 <img src='http://commons.wikimedia.org/wiki/Special:FilePath/Ilya_Ilf.jpg?width=300'/><li>Dwana\u015bcie krzese\u0142</li> <h1>Jewgienij Pietrow (pisarz)</h1>  urodzony: 1903-12-13  \n",
        "             <br> zmar\u0142: 1942-07-02 <img src='http://commons.wikimedia.org/wiki/Special:FilePath/Yevgeny_Petrov.jpg?width=300'/> <h1>Gabriela Zapolska</h1>  urodzony: 1857-03-30  \n",
        "             <br> zmar\u0142: 1921-12-17 <img src='http://commons.wikimedia.org/wiki/Special:FilePath/Gabriela_Zapolska.PNG?width=300'/><li>Ich czworo</li> <h1>Jeffery Deaver</h1>  urodzony: 1950-05-06  \n",
        "             <br> zmar\u0142:  <img src='http://commons.wikimedia.org/wiki/Special:FilePath/Jeffery_Deaver_October_2006.jpg?width=300'/><li>Kamienna ma\u0142pa</li><li>Mag (powie\u015b\u0107 J. Deavera)</li> <h1>Terry Pratchett</h1>  urodzony: 1948-04-28  \n",
        "             <br> zmar\u0142:  <img src='http://commons.wikimedia.org/wiki/Special:FilePath/Terry_Pratchett,_September_2009_1.jpg?width=300'/><li>Kot w stanie czystym</li> <h1>Clive Staples Lewis</h1>  urodzony: 1898-11-29  \n",
        "             <br> zmar\u0142: 1963-11-22 <img src='http://commons.wikimedia.org/wiki/Special:FilePath/Statue_of_C.S._Lewis,_Belfast.jpg?width=300'/><li>Ko\u0144 i jego ch\u0142opiec</li> <h1>Andrzej Pilipiuk</h1>  urodzony: 1974-03-20  \n",
        "             <br> zmar\u0142:  <img src='http://commons.wikimedia.org/wiki/Special:FilePath/Andrzej_Pilipiuk-Polcon2006.jpg?width=300'/><li>Kuzynki</li> <h1>Ursula K. Le Guin</h1>  urodzony: 1929-10-21  \n",
        "             <br> zmar\u0142:  <img src='http://commons.wikimedia.org/wiki/Special:FilePath/UrsulaLeGuin.01.jpg?width=300'/><li>Lewa r\u0119ka ciemno\u015bci</li><li>Czarnoksi\u0119\u017cnik z Archipelagu</li> <h1>Iwan Turgieniew</h1>  urodzony: 1818-11-09  \n",
        "             <br> zmar\u0142: 1883-09-03 <img src='http://commons.wikimedia.org/wiki/Special:FilePath/Turgenev_by_Repin.jpg?width=300'/><li>Ojcowie i dzieci</li> <h1>George R. R. Martin</h1>  urodzony: 1948-09-20  \n",
        "             <br> zmar\u0142:  <img src='http://commons.wikimedia.org/wiki/Special:FilePath/George_R_R_Martin_2011_Shankbone.JPG?width=300'/><li>Pie\u015b\u0144 Lodu i Ognia</li> <h1>Ryszard Kapu\u015bci\u0144ski</h1>  urodzony: 1932-03-04  \n",
        "             <br> zmar\u0142: 2007-01-23 <img src='http://commons.wikimedia.org/wiki/Special:FilePath/Ryszard_Kapuscinski_by_Kubik_17.05.1997_-_cropped.jpg?width=300'/><li>Podr\u00f3\u017ce z Herodotem</li> <h1>Lucy Maud Montgomery</h1>  urodzony: 1874-11-30  \n",
        "             <br> zmar\u0142: 1942-04-24 <img src='http://commons.wikimedia.org/wiki/Special:FilePath/Lucy_Maud_Montgomery.JPG?width=300'/><li>Rilla ze Z\u0142otego Brzegu</li> <h1>Dorota Terakowska</h1>  urodzony: 1938-08-30  \n",
        "             <br> zmar\u0142: 2004-01-04 <img src='http://commons.wikimedia.org/wiki/Special:FilePath/Dorota_Terakowska_grob.jpg?width=300'/><li>Tam gdzie spadaj\u0105 anio\u0142y</li> <h1>Alfred Szklarski</h1>  urodzony: 1912-01-21  \n",
        "             <br> zmar\u0142: 1992-04-09 <img src='http://commons.wikimedia.org/wiki/Special:FilePath/Katowice_-_pomnik_Alfred_Szklarski.JPG?width=300'/><li>Tomek u \u017ar\u00f3de\u0142 Amazonki</li><li>Tomek w Gran Chaco</li><li>Tomek w grobowcach faraon\u00f3w</li> <h1>Adam Zelga</h1>  urodzony: 1953-03-11  \n",
        "             <br> zmar\u0142:  <img src=''/> <h1>Rafa\u0142 A. Ziemkiewicz</h1>  urodzony: 1964-09-13  \n",
        "             <br> zmar\u0142:  <img src='http://commons.wikimedia.org/wiki/Special:FilePath/Rafa\u0142_Ziemkiewicz.jpg?width=300'/><li>Walc stulecia</li> <h1>Anne Rice</h1>  urodzony: 1941-10-04  \n",
        "             <br> zmar\u0142:  <img src='http://commons.wikimedia.org/wiki/Special:FilePath/Anne_Rice.jpg?width=300'/><li>Wampir Lestat</li> <h1>Aleksander Majkowski</h1>  urodzony: 1876-07-17  \n",
        "             <br> zmar\u0142: 1938-02-10 <img src='http://commons.wikimedia.org/wiki/Special:FilePath/POL_Polonia_Restituta_Oficerski_BAR.svg?width=300'/><li>\u017bycie i przygody Remusa</li> <h1>Ian Fleming</h1>  urodzony: 1908-05-28  \n",
        "             <br> zmar\u0142: 1964-08-12 <img src='http://commons.wikimedia.org/wiki/Special:FilePath/For_Your_Eyes_Only.jpg?width=300'/><li>Casino Royale (powie\u015b\u0107)</li> <h1>Gene Wolfe</h1>  urodzony: 1931-05-07  \n",
        "             <br> zmar\u0142:  <img src='http://commons.wikimedia.org/wiki/Special:FilePath/Gene_Wolfe,_2005.png?width=300'/><li>Cie\u0144 kata</li> <h1>Paulo Coelho</h1>  urodzony: 1947-08-24  \n",
        "             <br> zmar\u0142:  <img src='http://commons.wikimedia.org/wiki/Special:FilePath/Paulo_Coelho_nrkbeta.jpg?width=300'/><li>Czarownica z Portobello</li> <h1>Tom Clancy</h1>  urodzony: 1947-04-12  \n",
        "             <br> zmar\u0142: 2013-10-01 <img src='http://commons.wikimedia.org/wiki/Special:FilePath/Tom_Clancy_at_Burns_Library_cropped.jpg?width=300'/><li>Czas patriot\u00f3w (powie\u015b\u0107)</li></ul>"
       ],
       "metadata": {},
       "output_type": "pyout",
       "prompt_number": 145,
       "text": [
        "\"<ul> <h1>Juliusz S\u0142owacki</h1>  urodzony: 1809-09-04  \\n             <br> zmar\u0142: 1849-04-03 <img src=''/> <h1>Henryk Sienkiewicz</h1>  urodzony: 1846-05-05  \\n             <br> zmar\u0142: 1916-11-15 <img src=''/><li>Krzy\u017cacy (powie\u015b\u0107)</li><li>Ogniem i mieczem</li><li>Quo vadis</li> <h1>Eliza Orzeszkowa</h1>  urodzony: 1841-06-06  \\n             <br> zmar\u0142: 1910-05-18 <img src=''/><li>Nad Niemnem</li> <h1>Adam Mickiewicz</h1>  urodzony: 1798-12-24  \\n             <br> zmar\u0142: 1855-11-26 <img src=''/><li>Ksi\u0119gi narodu polskiego i pielgrzymstwa polskiego</li> <h1>Orson Scott Card</h1>  urodzony: 1951-08-24  \\n             <br> zmar\u0142:  <img src='http://commons.wikimedia.org/wiki/Special:FilePath/Orson_Scott_Card_at_BYU_Symposium_20080216_closeup.jpg?width=300'/><li>V\u00e9gj\u00e1t\u00e9k (reg\u00e9ny)</li> <h1>Andrzej Sapkowski</h1>  urodzony: 1948-06-21  \\n             <br> zmar\u0142:  <img src='http://commons.wikimedia.org/wiki/Special:FilePath/Sapkowski.jpg?width=300'/><li>Pani Jeziora (powie\u015b\u0107)</li> <h1>Jack London</h1>  urodzony: 1876-01-12  \\n             <br> zmar\u0142: 1916-11-22 <img src='http://commons.wikimedia.org/wiki/Special:FilePath/JackLondon02.jpeg?width=300'/><li>Bellew Zawierucha</li> <h1>Henning Mankell</h1>  urodzony: 1948-02-03  \\n             <br> zmar\u0142:  <img src='http://commons.wikimedia.org/wiki/Special:FilePath/Henning_Mankell_3_2011_Shankbone.jpg?width=300'/><li>Fa\u0142szywy trop (powie\u015b\u0107)</li> <h1>Stanis\u0142aw Lem</h1>  urodzony: 1921-09-12  \\n             <br> zmar\u0142: 2006-03-27 <img src='http://commons.wikimedia.org/wiki/Special:FilePath/Stanislaw_Lem_2.jpg?width=300'/><li>Bajki robot\u00f3w</li><li>Solaris (powie\u015b\u0107)</li><li>Bezsenno\u015b\u0107 (zbi\u00f3r opowiada\u0144)</li><li>G\u0142os Pana</li><li>Inwazja z Aldebarana (zbi\u00f3r opowiada\u0144)</li><li>Katar (powie\u015b\u0107)</li><li>Ksi\u0119ga robot\u00f3w</li><li>Maska (zbi\u00f3r dzie\u0142)</li><li>Niezwyci\u0119\u017cony i inne opowiadania</li><li>Noc ksi\u0119\u017cycowa</li><li>Pami\u0119tnik znaleziony w wannie</li><li>Polowanie (zbi\u00f3r opowiada\u0144)</li><li>Powt\u00f3rka (zbi\u00f3r dzie\u0142)</li><li>Po\u017cytek ze smoka</li><li>Rasa drapie\u017cc\u00f3w. Teksty ostatnie</li><li>Sezam i inne opowiadania</li><li>Summa technologiae</li><li>Wizja lokalna (powie\u015b\u0107)</li> <h1>Antoni Go\u0142ubiew</h1>  urodzony: 1907-02-25  \\n             <br> zmar\u0142: 1979-06-27 <img src='http://commons.wikimedia.org/wiki/Special:FilePath/Antoni_Golubiew.jpg?width=300'/><li>Boles\u0142aw Chrobry (powie\u015b\u0107)</li> <h1>Miko\u0142aj Kopernik</h1>  urodzony: 1473-02-19  \\n             <br> zmar\u0142: 1543-05-24 <img src='http://commons.wikimedia.org/wiki/Special:FilePath/Nikolaus_Kopernikus.jpg?width=300'/><li>De revolutionibus orbium coelestium</li> <h1>Maria Franciszka Koz\u0142owska</h1>  urodzony: 1862-05-27  \\n             <br> zmar\u0142:  <img src='http://commons.wikimedia.org/wiki/Special:FilePath/Mateczk_Koz\u0142owska.JPG?width=300'/><li>Dzie\u0142o Wielkiego Mi\u0142osierdzia</li> <h1>George Orwell</h1>  urodzony: 1903-06-25  \\n             <br> zmar\u0142: 1950-01-21 <img src='http://commons.wikimedia.org/wiki/Special:FilePath/GeoreOrwell.jpg?width=300'/><li>Folwark zwierz\u0119cy</li><li>Droga na molo w Wigan</li> <h1>William Szekspir</h1>  urodzony: 1564-04-23  \\n             <br> zmar\u0142: 1616-05-03 <img src='http://commons.wikimedia.org/wiki/Special:FilePath/Shakespeare.jpg?width=300'/><li>Hamlet</li><li>Romeo i Julia</li><li>Sen nocy letniej</li> <h1>J. K. Rowling</h1>  urodzony: 1965-07-31  \\n             <br> zmar\u0142:  <img src='http://commons.wikimedia.org/wiki/Special:FilePath/J._K._Rowling_2010.jpg?width=300'/><li>Harry Potter</li> <h1>John Ronald Reuel Tolkien</h1>  urodzony: 1892-01-03  \\n             <br> zmar\u0142: 1973-09-02 <img src='http://commons.wikimedia.org/wiki/Special:FilePath/Tolkien_1916.jpg?width=300'/><li>Hobbit, czyli tam i z powrotem</li><li>Silmarillion</li><li>W\u0142adca Pier\u015bcieni</li> <h1>Aleksander Dumas (ojciec)</h1>  urodzony: 1802-07-24  \\n             <br> zmar\u0142: 1870-12-05 <img src='http://commons.wikimedia.org/wiki/Special:FilePath/Dumas_by_Nadar,_1855.jpg?width=300'/><li>Hrabia Monte Christo</li> <h1>Tadeusz Do\u0142\u0119ga-Mostowicz</h1>  urodzony: 1898-08-10  \\n             <br> zmar\u0142: 1939-09-20 <img src='http://commons.wikimedia.org/wiki/Special:FilePath/Tadeusz_Dolega-Mostowicz.jpg?width=300'/><li>Kariera Nikodema Dyzmy</li> <h1>Vladimir Nabokov</h1>  urodzony: 1899-04-22  \\n             <br> zmar\u0142: 1977-07-02 <img src='http://commons.wikimedia.org/wiki/Special:FilePath/Monument_Nabokov_Montreux_23.12.2006.jpg?width=300'/><li>Lolita</li> <h1>Adolf Hitler</h1>  urodzony: 1889-04-20  \\n             <br> zmar\u0142: 1945-04-30 <img src='http://commons.wikimedia.org/wiki/Special:FilePath/Hitler_portrait_crop.jpg?width=300'/><li>Mein Kampf</li> <h1>Christopher Tolkien</h1>  urodzony: 1924-11-21  \\n             <br> zmar\u0142:  <img src=''/><li>Niedoko\u0144czone opowie\u015bci</li> <h1>Benedykt Chmielowski</h1>  urodzony: 1700-03-20  \\n             <br> zmar\u0142: 1763-04-07 <img src='http://commons.wikimedia.org/wiki/Special:FilePath/POL_COA_Na\u0142\u0119cz.svg?width=300'/><li>Nowe Ateny</li> <h1>Aldous Huxley</h1>  urodzony: 1894-07-26  \\n             <br> zmar\u0142: 1963-11-22 <img src='http://commons.wikimedia.org/wiki/Special:FilePath/Aldous_Huxley.JPG?width=300'/><li>Nowy wspania\u0142y \u015bwiat</li> <h1>Honor\u00e9 de Balzac</h1>  urodzony: 1799-05-20  \\n             <br> zmar\u0142: 1850-08-18 <img src='http://commons.wikimedia.org/wiki/Special:FilePath/HBalzac.jpg?width=300'/><li>Ojciec Goriot</li> <h1>Franz Kafka</h1>  urodzony: 1883-07-03  \\n             <br> zmar\u0142: 1924-06-03 <img src='http://commons.wikimedia.org/wiki/Special:FilePath/Kafka1906.jpg?width=300'/><li>Proces (powie\u015b\u0107)</li> <h1>Jan Kochanowski</h1>  urodzony:   \\n             <br> zmar\u0142: 1584-08-22 <img src='http://commons.wikimedia.org/wiki/Special:FilePath/Jan_Kochanowski.png?width=300'/><li>Psa\u0142terz Dawid\u00f3w</li> <h1>Howard Phillips Lovecraft</h1>  urodzony: 1890-08-20  \\n             <br> zmar\u0142: 1937-03-15 <img src='http://commons.wikimedia.org/wiki/Special:FilePath/Howard_Phillips_Lovecraft_in_1915.jpg?width=300'/><li>Zew Cthulhu (opowiadanie)</li> <h1>Karol Olgierd Borchardt</h1>  urodzony: 1905-03-25  \\n             <br> zmar\u0142: 1986-05-20 <img src='http://commons.wikimedia.org/wiki/Special:FilePath/Karol_Olgierd_Borchardt's_house_in_Gdynia.jpg?width=300'/><li>Znaczy Kapitan</li> <h1>Lew To\u0142stoj</h1>  urodzony: 1828-09-09  \\n             <br> zmar\u0142: 1910-11-20 <img src='http://commons.wikimedia.org/wiki/Special:FilePath/Ilya_Efimovich_Repin_(1844-1930)_-_Portrait_of_Leo_Tolstoy_(1887).jpg?width=300'/><li>Anna Karenina</li><li>Wojna i pok\u00f3j</li> <h1>Boris Akunin</h1>  urodzony: 1956-05-20  \\n             <br> zmar\u0142:  <img src='http://commons.wikimedia.org/wiki/Special:FilePath/Boris_Akunin_2012.jpg?width=300'/><li>Azazel (powie\u015b\u0107)</li><li>Dekorator</li><li>Diamentowa karoca</li><li>Gambit turecki</li><li>Kochanek \u015amierci</li><li>Kochanka \u015amierci</li><li>Koronacja (powie\u015b\u0107)</li><li>Lewiatan (powie\u015b\u0107)</li><li>Radca stanu (powie\u015b\u0107)</li><li>Walet pikowy (powie\u015b\u0107)</li><li>\u015amier\u0107 Achillesa</li> <h1>Janusz Zajdel</h1>  urodzony: 1938-08-15  \\n             <br> zmar\u0142: 1985-07-19 <img src='http://commons.wikimedia.org/wiki/Special:FilePath/Janusz_A_Zajdel.jpg?width=300'/><li>Ca\u0142a prawda o planecie Ksi</li> <h1>Jan Pawe\u0142 II</h1>  urodzony: 1920-05-18  \\n             <br> zmar\u0142: 2005-04-02 <img src='http://commons.wikimedia.org/wiki/Special:FilePath/John_Paul_II_Medal_of_Freedom_2004.jpg?width=300'/><li>Dives in misericordia</li><li>Slavorum apostoli</li><li>Ut unum sint</li><li>Veritatis splendor</li> <h1>Isaac Asimov</h1>  urodzony: 1919-10-04  \\n             <br> zmar\u0142: 1992-04-06 <img src='http://commons.wikimedia.org/wiki/Special:FilePath/Isaac.Asimov01.jpg?width=300'/><li>Druga Fundacja</li><li>Fundacja (powie\u015b\u0107)</li><li>Fundacja i Imperium</li><li>Preludium Fundacji</li> <h1>Ilja Ilf</h1>  urodzony: 1897-10-15  \\n             <br> zmar\u0142: 1937-04-13 <img src='http://commons.wikimedia.org/wiki/Special:FilePath/Ilya_Ilf.jpg?width=300'/><li>Dwana\u015bcie krzese\u0142</li> <h1>Jewgienij Pietrow (pisarz)</h1>  urodzony: 1903-12-13  \\n             <br> zmar\u0142: 1942-07-02 <img src='http://commons.wikimedia.org/wiki/Special:FilePath/Yevgeny_Petrov.jpg?width=300'/> <h1>Gabriela Zapolska</h1>  urodzony: 1857-03-30  \\n             <br> zmar\u0142: 1921-12-17 <img src='http://commons.wikimedia.org/wiki/Special:FilePath/Gabriela_Zapolska.PNG?width=300'/><li>Ich czworo</li> <h1>Jeffery Deaver</h1>  urodzony: 1950-05-06  \\n             <br> zmar\u0142:  <img src='http://commons.wikimedia.org/wiki/Special:FilePath/Jeffery_Deaver_October_2006.jpg?width=300'/><li>Kamienna ma\u0142pa</li><li>Mag (powie\u015b\u0107 J. Deavera)</li> <h1>Terry Pratchett</h1>  urodzony: 1948-04-28  \\n             <br> zmar\u0142:  <img src='http://commons.wikimedia.org/wiki/Special:FilePath/Terry_Pratchett,_September_2009_1.jpg?width=300'/><li>Kot w stanie czystym</li> <h1>Clive Staples Lewis</h1>  urodzony: 1898-11-29  \\n             <br> zmar\u0142: 1963-11-22 <img src='http://commons.wikimedia.org/wiki/Special:FilePath/Statue_of_C.S._Lewis,_Belfast.jpg?width=300'/><li>Ko\u0144 i jego ch\u0142opiec</li> <h1>Andrzej Pilipiuk</h1>  urodzony: 1974-03-20  \\n             <br> zmar\u0142:  <img src='http://commons.wikimedia.org/wiki/Special:FilePath/Andrzej_Pilipiuk-Polcon2006.jpg?width=300'/><li>Kuzynki</li> <h1>Ursula K. Le Guin</h1>  urodzony: 1929-10-21  \\n             <br> zmar\u0142:  <img src='http://commons.wikimedia.org/wiki/Special:FilePath/UrsulaLeGuin.01.jpg?width=300'/><li>Lewa r\u0119ka ciemno\u015bci</li><li>Czarnoksi\u0119\u017cnik z Archipelagu</li> <h1>Iwan Turgieniew</h1>  urodzony: 1818-11-09  \\n             <br> zmar\u0142: 1883-09-03 <img src='http://commons.wikimedia.org/wiki/Special:FilePath/Turgenev_by_Repin.jpg?width=300'/><li>Ojcowie i dzieci</li> <h1>George R. R. Martin</h1>  urodzony: 1948-09-20  \\n             <br> zmar\u0142:  <img src='http://commons.wikimedia.org/wiki/Special:FilePath/George_R_R_Martin_2011_Shankbone.JPG?width=300'/><li>Pie\u015b\u0144 Lodu i Ognia</li> <h1>Ryszard Kapu\u015bci\u0144ski</h1>  urodzony: 1932-03-04  \\n             <br> zmar\u0142: 2007-01-23 <img src='http://commons.wikimedia.org/wiki/Special:FilePath/Ryszard_Kapuscinski_by_Kubik_17.05.1997_-_cropped.jpg?width=300'/><li>Podr\u00f3\u017ce z Herodotem</li> <h1>Lucy Maud Montgomery</h1>  urodzony: 1874-11-30  \\n             <br> zmar\u0142: 1942-04-24 <img src='http://commons.wikimedia.org/wiki/Special:FilePath/Lucy_Maud_Montgomery.JPG?width=300'/><li>Rilla ze Z\u0142otego Brzegu</li> <h1>Dorota Terakowska</h1>  urodzony: 1938-08-30  \\n             <br> zmar\u0142: 2004-01-04 <img src='http://commons.wikimedia.org/wiki/Special:FilePath/Dorota_Terakowska_grob.jpg?width=300'/><li>Tam gdzie spadaj\u0105 anio\u0142y</li> <h1>Alfred Szklarski</h1>  urodzony: 1912-01-21  \\n             <br> zmar\u0142: 1992-04-09 <img src='http://commons.wikimedia.org/wiki/Special:FilePath/Katowice_-_pomnik_Alfred_Szklarski.JPG?width=300'/><li>Tomek u \u017ar\u00f3de\u0142 Amazonki</li><li>Tomek w Gran Chaco</li><li>Tomek w grobowcach faraon\u00f3w</li> <h1>Adam Zelga</h1>  urodzony: 1953-03-11  \\n             <br> zmar\u0142:  <img src=''/> <h1>Rafa\u0142 A. Ziemkiewicz</h1>  urodzony: 1964-09-13  \\n             <br> zmar\u0142:  <img src='http://commons.wikimedia.org/wiki/Special:FilePath/Rafa\u0142_Ziemkiewicz.jpg?width=300'/><li>Walc stulecia</li> <h1>Anne Rice</h1>  urodzony: 1941-10-04  \\n             <br> zmar\u0142:  <img src='http://commons.wikimedia.org/wiki/Special:FilePath/Anne_Rice.jpg?width=300'/><li>Wampir Lestat</li> <h1>Aleksander Majkowski</h1>  urodzony: 1876-07-17  \\n             <br> zmar\u0142: 1938-02-10 <img src='http://commons.wikimedia.org/wiki/Special:FilePath/POL_Polonia_Restituta_Oficerski_BAR.svg?width=300'/><li>\u017bycie i przygody Remusa</li> <h1>Ian Fleming</h1>  urodzony: 1908-05-28  \\n             <br> zmar\u0142: 1964-08-12 <img src='http://commons.wikimedia.org/wiki/Special:FilePath/For_Your_Eyes_Only.jpg?width=300'/><li>Casino Royale (powie\u015b\u0107)</li> <h1>Gene Wolfe</h1>  urodzony: 1931-05-07  \\n             <br> zmar\u0142:  <img src='http://commons.wikimedia.org/wiki/Special:FilePath/Gene_Wolfe,_2005.png?width=300'/><li>Cie\u0144 kata</li> <h1>Paulo Coelho</h1>  urodzony: 1947-08-24  \\n             <br> zmar\u0142:  <img src='http://commons.wikimedia.org/wiki/Special:FilePath/Paulo_Coelho_nrkbeta.jpg?width=300'/><li>Czarownica z Portobello</li> <h1>Tom Clancy</h1>  urodzony: 1947-04-12  \\n             <br> zmar\u0142: 2013-10-01 <img src='http://commons.wikimedia.org/wiki/Special:FilePath/Tom_Clancy_at_Burns_Library_cropped.jpg?width=300'/><li>Czas patriot\u00f3w (powie\u015b\u0107)</li></ul>\""
       ]
      }
     ],
     "prompt_number": 145
    },
    {
     "cell_type": "code",
     "collapsed": false,
     "input": [],
     "language": "python",
     "metadata": {},
     "outputs": []
    }
   ],
   "metadata": {}
  }
 ]
}